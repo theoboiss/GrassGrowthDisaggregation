{
 "cells": [
  {
   "cell_type": "code",
   "execution_count": 6,
   "id": "7148228e-53ff-44b0-88d3-733148295ea7",
   "metadata": {},
   "outputs": [],
   "source": [
    "# Import the libraries\n",
    "\n",
    "import numpy as np\n",
    "import matplotlib.pyplot as plt\n",
    "import pandas as pd"
   ]
  },
  {
   "cell_type": "code",
   "execution_count": 7,
   "id": "96c26d0a-feee-4bd9-8ac3-43079a35d915",
   "metadata": {},
   "outputs": [],
   "source": [
    "# Define settings\n",
    "import os\n",
    "\n",
    "pd.set_option(\"display.precision\", 3)\n",
    "data_dir_path = os.getcwd() + '/dataverse_files/'"
   ]
  },
  {
   "cell_type": "code",
   "execution_count": 8,
   "id": "c5ee2136-b7e4-4ae3-a6ca-e22fee6f175b",
   "metadata": {},
   "outputs": [],
   "source": [
    "# Import data\n",
    "import pyreadr\n",
    "\n",
    "croissance_et_climat_decadaires = pyreadr.read_r(data_dir_path + \"croissance_et_climat_decadaires.rds\" ).popitem()[1]\n",
    "valorisation_annuelle = pyreadr.read_r(data_dir_path + \"valorisation_annuelle.rds\" ).popitem()[1]"
   ]
  },
  {
   "cell_type": "markdown",
   "id": "8f344cba-4fa1-4007-ba53-92005d123ec0",
   "metadata": {},
   "source": [
    "## Preparation of croissance et climat decadaires"
   ]
  },
  {
   "cell_type": "code",
   "execution_count": 9,
   "id": "ec9087cd-0627-4f92-8ae4-5a4ef7789a29",
   "metadata": {},
   "outputs": [
    {
     "data": {
      "text/html": [
       "<div>\n",
       "<style scoped>\n",
       "    .dataframe tbody tr th:only-of-type {\n",
       "        vertical-align: middle;\n",
       "    }\n",
       "\n",
       "    .dataframe tbody tr th {\n",
       "        vertical-align: top;\n",
       "    }\n",
       "\n",
       "    .dataframe thead th {\n",
       "        text-align: right;\n",
       "    }\n",
       "</style>\n",
       "<table border=\"1\" class=\"dataframe\">\n",
       "  <thead>\n",
       "    <tr style=\"text-align: right;\">\n",
       "      <th></th>\n",
       "      <th>ucs</th>\n",
       "      <th>safran</th>\n",
       "      <th>sol</th>\n",
       "      <th>type_de_prairie</th>\n",
       "      <th>gestion</th>\n",
       "      <th>annee</th>\n",
       "      <th>decade</th>\n",
       "      <th>Tmin</th>\n",
       "      <th>Tmax</th>\n",
       "      <th>Tmoy</th>\n",
       "      <th>Rain</th>\n",
       "      <th>RG</th>\n",
       "      <th>im</th>\n",
       "      <th>croissance</th>\n",
       "    </tr>\n",
       "  </thead>\n",
       "  <tbody>\n",
       "    <tr>\n",
       "      <th>0</th>\n",
       "      <td>789</td>\n",
       "      <td>2131</td>\n",
       "      <td>330343</td>\n",
       "      <td>tp3</td>\n",
       "      <td>20</td>\n",
       "      <td>1985.0</td>\n",
       "      <td>1.0</td>\n",
       "      <td>-2.289</td>\n",
       "      <td>3.178</td>\n",
       "      <td>0.444</td>\n",
       "      <td>12.3</td>\n",
       "      <td>28.912</td>\n",
       "      <td>43.573</td>\n",
       "      <td>0.032</td>\n",
       "    </tr>\n",
       "    <tr>\n",
       "      <th>1</th>\n",
       "      <td>789</td>\n",
       "      <td>2131</td>\n",
       "      <td>330343</td>\n",
       "      <td>tp3</td>\n",
       "      <td>20</td>\n",
       "      <td>1985.0</td>\n",
       "      <td>2.0</td>\n",
       "      <td>-5.740</td>\n",
       "      <td>-0.410</td>\n",
       "      <td>-3.075</td>\n",
       "      <td>19.5</td>\n",
       "      <td>33.793</td>\n",
       "      <td>104.188</td>\n",
       "      <td>0.000</td>\n",
       "    </tr>\n",
       "    <tr>\n",
       "      <th>2</th>\n",
       "      <td>789</td>\n",
       "      <td>2131</td>\n",
       "      <td>330343</td>\n",
       "      <td>tp3</td>\n",
       "      <td>20</td>\n",
       "      <td>1985.0</td>\n",
       "      <td>3.0</td>\n",
       "      <td>3.770</td>\n",
       "      <td>9.130</td>\n",
       "      <td>6.450</td>\n",
       "      <td>36.8</td>\n",
       "      <td>24.751</td>\n",
       "      <td>82.772</td>\n",
       "      <td>0.046</td>\n",
       "    </tr>\n",
       "    <tr>\n",
       "      <th>3</th>\n",
       "      <td>789</td>\n",
       "      <td>2131</td>\n",
       "      <td>330343</td>\n",
       "      <td>tp3</td>\n",
       "      <td>20</td>\n",
       "      <td>1985.0</td>\n",
       "      <td>4.0</td>\n",
       "      <td>8.230</td>\n",
       "      <td>12.450</td>\n",
       "      <td>10.340</td>\n",
       "      <td>14.4</td>\n",
       "      <td>32.975</td>\n",
       "      <td>26.195</td>\n",
       "      <td>0.075</td>\n",
       "    </tr>\n",
       "    <tr>\n",
       "      <th>4</th>\n",
       "      <td>789</td>\n",
       "      <td>2131</td>\n",
       "      <td>330343</td>\n",
       "      <td>tp3</td>\n",
       "      <td>20</td>\n",
       "      <td>1985.0</td>\n",
       "      <td>5.0</td>\n",
       "      <td>-1.380</td>\n",
       "      <td>2.520</td>\n",
       "      <td>0.570</td>\n",
       "      <td>25.3</td>\n",
       "      <td>48.912</td>\n",
       "      <td>88.562</td>\n",
       "      <td>0.015</td>\n",
       "    </tr>\n",
       "  </tbody>\n",
       "</table>\n",
       "</div>"
      ],
      "text/plain": [
       "   ucs  safran     sol type_de_prairie  gestion   annee  decade   Tmin  \\\n",
       "0  789    2131  330343             tp3       20  1985.0     1.0 -2.289   \n",
       "1  789    2131  330343             tp3       20  1985.0     2.0 -5.740   \n",
       "2  789    2131  330343             tp3       20  1985.0     3.0  3.770   \n",
       "3  789    2131  330343             tp3       20  1985.0     4.0  8.230   \n",
       "4  789    2131  330343             tp3       20  1985.0     5.0 -1.380   \n",
       "\n",
       "     Tmax    Tmoy  Rain      RG       im  croissance  \n",
       "0   3.178   0.444  12.3  28.912   43.573       0.032  \n",
       "1  -0.410  -3.075  19.5  33.793  104.188       0.000  \n",
       "2   9.130   6.450  36.8  24.751   82.772       0.046  \n",
       "3  12.450  10.340  14.4  32.975   26.195       0.075  \n",
       "4   2.520   0.570  25.3  48.912   88.562       0.015  "
      ]
     },
     "execution_count": 9,
     "metadata": {},
     "output_type": "execute_result"
    }
   ],
   "source": [
    "df = croissance_et_climat_decadaires\n",
    "df.head()"
   ]
  },
  {
   "cell_type": "code",
   "execution_count": 10,
   "id": "9753eb3b-844a-4d03-8624-bce0d9b6fe99",
   "metadata": {
    "tags": []
   },
   "outputs": [
    {
     "name": "stdout",
     "output_type": "stream",
     "text": [
      "(18693829, 14)\n",
      "Index(['ucs', 'safran', 'sol', 'type_de_prairie', 'gestion', 'annee', 'decade',\n",
      "       'Tmin', 'Tmax', 'Tmoy', 'Rain', 'RG', 'im', 'croissance'],\n",
      "      dtype='object')\n",
      "<class 'pandas.core.frame.DataFrame'>\n",
      "RangeIndex: 18693829 entries, 0 to 18693828\n",
      "Data columns (total 14 columns):\n",
      " #   Column           Dtype  \n",
      "---  ------           -----  \n",
      " 0   ucs              int32  \n",
      " 1   safran           int32  \n",
      " 2   sol              int32  \n",
      " 3   type_de_prairie  object \n",
      " 4   gestion          int32  \n",
      " 5   annee            float64\n",
      " 6   decade           float64\n",
      " 7   Tmin             float64\n",
      " 8   Tmax             float64\n",
      " 9   Tmoy             float64\n",
      " 10  Rain             float64\n",
      " 11  RG               float64\n",
      " 12  im               float64\n",
      " 13  croissance       float64\n",
      "dtypes: float64(9), int32(4), object(1)\n",
      "memory usage: 1.7+ GB\n",
      "None\n"
     ]
    }
   ],
   "source": [
    "print(df.shape)\n",
    "print(df.columns)\n",
    "print(df.info())"
   ]
  },
  {
   "cell_type": "code",
   "execution_count": 11,
   "id": "910ef1f5-c74a-44b4-87c9-701fa8b8b260",
   "metadata": {
    "tags": []
   },
   "outputs": [
    {
     "data": {
      "text/html": [
       "<div>\n",
       "<style scoped>\n",
       "    .dataframe tbody tr th:only-of-type {\n",
       "        vertical-align: middle;\n",
       "    }\n",
       "\n",
       "    .dataframe tbody tr th {\n",
       "        vertical-align: top;\n",
       "    }\n",
       "\n",
       "    .dataframe thead th {\n",
       "        text-align: right;\n",
       "    }\n",
       "</style>\n",
       "<table border=\"1\" class=\"dataframe\">\n",
       "  <thead>\n",
       "    <tr style=\"text-align: right;\">\n",
       "      <th></th>\n",
       "      <th>ucs</th>\n",
       "      <th>safran</th>\n",
       "      <th>sol</th>\n",
       "      <th>type_de_prairie</th>\n",
       "      <th>gestion</th>\n",
       "      <th>annee</th>\n",
       "      <th>decade</th>\n",
       "      <th>Tmin</th>\n",
       "      <th>Tmax</th>\n",
       "      <th>Tmoy</th>\n",
       "      <th>Rain</th>\n",
       "      <th>RG</th>\n",
       "      <th>im</th>\n",
       "      <th>croissance</th>\n",
       "    </tr>\n",
       "  </thead>\n",
       "  <tbody>\n",
       "    <tr>\n",
       "      <th>count</th>\n",
       "      <td>1.869e+07</td>\n",
       "      <td>1.869e+07</td>\n",
       "      <td>1.869e+07</td>\n",
       "      <td>18693829</td>\n",
       "      <td>1.869e+07</td>\n",
       "      <td>1.867e+07</td>\n",
       "      <td>1.867e+07</td>\n",
       "      <td>1.857e+07</td>\n",
       "      <td>1.857e+07</td>\n",
       "      <td>1.857e+07</td>\n",
       "      <td>1.857e+07</td>\n",
       "      <td>1.857e+07</td>\n",
       "      <td>1.857e+07</td>\n",
       "      <td>1.867e+07</td>\n",
       "    </tr>\n",
       "    <tr>\n",
       "      <th>unique</th>\n",
       "      <td>NaN</td>\n",
       "      <td>NaN</td>\n",
       "      <td>NaN</td>\n",
       "      <td>3</td>\n",
       "      <td>NaN</td>\n",
       "      <td>NaN</td>\n",
       "      <td>NaN</td>\n",
       "      <td>NaN</td>\n",
       "      <td>NaN</td>\n",
       "      <td>NaN</td>\n",
       "      <td>NaN</td>\n",
       "      <td>NaN</td>\n",
       "      <td>NaN</td>\n",
       "      <td>NaN</td>\n",
       "    </tr>\n",
       "    <tr>\n",
       "      <th>top</th>\n",
       "      <td>NaN</td>\n",
       "      <td>NaN</td>\n",
       "      <td>NaN</td>\n",
       "      <td>tp4</td>\n",
       "      <td>NaN</td>\n",
       "      <td>NaN</td>\n",
       "      <td>NaN</td>\n",
       "      <td>NaN</td>\n",
       "      <td>NaN</td>\n",
       "      <td>NaN</td>\n",
       "      <td>NaN</td>\n",
       "      <td>NaN</td>\n",
       "      <td>NaN</td>\n",
       "      <td>NaN</td>\n",
       "    </tr>\n",
       "    <tr>\n",
       "      <th>freq</th>\n",
       "      <td>NaN</td>\n",
       "      <td>NaN</td>\n",
       "      <td>NaN</td>\n",
       "      <td>10563388</td>\n",
       "      <td>NaN</td>\n",
       "      <td>NaN</td>\n",
       "      <td>NaN</td>\n",
       "      <td>NaN</td>\n",
       "      <td>NaN</td>\n",
       "      <td>NaN</td>\n",
       "      <td>NaN</td>\n",
       "      <td>NaN</td>\n",
       "      <td>NaN</td>\n",
       "      <td>NaN</td>\n",
       "    </tr>\n",
       "    <tr>\n",
       "      <th>mean</th>\n",
       "      <td>1.054e+03</td>\n",
       "      <td>2.523e+03</td>\n",
       "      <td>3.308e+05</td>\n",
       "      <td>NaN</td>\n",
       "      <td>1.362e+01</td>\n",
       "      <td>1.999e+03</td>\n",
       "      <td>1.900e+01</td>\n",
       "      <td>8.249e+00</td>\n",
       "      <td>1.464e+01</td>\n",
       "      <td>1.145e+01</td>\n",
       "      <td>2.578e+01</td>\n",
       "      <td>1.085e+02</td>\n",
       "      <td>4.798e+01</td>\n",
       "      <td>3.710e+01</td>\n",
       "    </tr>\n",
       "    <tr>\n",
       "      <th>std</th>\n",
       "      <td>2.229e+02</td>\n",
       "      <td>5.508e+02</td>\n",
       "      <td>6.531e+02</td>\n",
       "      <td>NaN</td>\n",
       "      <td>9.407e+00</td>\n",
       "      <td>8.626e+00</td>\n",
       "      <td>1.068e+01</td>\n",
       "      <td>4.365e+00</td>\n",
       "      <td>5.607e+00</td>\n",
       "      <td>4.893e+00</td>\n",
       "      <td>2.499e+01</td>\n",
       "      <td>6.581e+01</td>\n",
       "      <td>4.897e+01</td>\n",
       "      <td>3.066e+01</td>\n",
       "    </tr>\n",
       "    <tr>\n",
       "      <th>min</th>\n",
       "      <td>6.400e+02</td>\n",
       "      <td>1.309e+03</td>\n",
       "      <td>3.303e+05</td>\n",
       "      <td>NaN</td>\n",
       "      <td>1.000e+00</td>\n",
       "      <td>1.984e+03</td>\n",
       "      <td>1.000e+00</td>\n",
       "      <td>-8.760e+00</td>\n",
       "      <td>-5.380e+00</td>\n",
       "      <td>-7.020e+00</td>\n",
       "      <td>0.000e+00</td>\n",
       "      <td>7.170e+00</td>\n",
       "      <td>0.000e+00</td>\n",
       "      <td>0.000e+00</td>\n",
       "    </tr>\n",
       "    <tr>\n",
       "      <th>25%</th>\n",
       "      <td>8.880e+02</td>\n",
       "      <td>2.120e+03</td>\n",
       "      <td>3.306e+05</td>\n",
       "      <td>NaN</td>\n",
       "      <td>5.000e+00</td>\n",
       "      <td>1.991e+03</td>\n",
       "      <td>1.000e+01</td>\n",
       "      <td>5.040e+00</td>\n",
       "      <td>1.043e+01</td>\n",
       "      <td>7.855e+00</td>\n",
       "      <td>6.800e+00</td>\n",
       "      <td>4.684e+01</td>\n",
       "      <td>1.144e+01</td>\n",
       "      <td>1.090e+01</td>\n",
       "    </tr>\n",
       "    <tr>\n",
       "      <th>50%</th>\n",
       "      <td>1.080e+03</td>\n",
       "      <td>2.497e+03</td>\n",
       "      <td>3.306e+05</td>\n",
       "      <td>NaN</td>\n",
       "      <td>1.500e+01</td>\n",
       "      <td>1.999e+03</td>\n",
       "      <td>1.900e+01</td>\n",
       "      <td>8.290e+00</td>\n",
       "      <td>1.425e+01</td>\n",
       "      <td>1.118e+01</td>\n",
       "      <td>1.890e+01</td>\n",
       "      <td>1.043e+02</td>\n",
       "      <td>3.297e+01</td>\n",
       "      <td>2.812e+01</td>\n",
       "    </tr>\n",
       "    <tr>\n",
       "      <th>75%</th>\n",
       "      <td>1.222e+03</td>\n",
       "      <td>2.895e+03</td>\n",
       "      <td>3.306e+05</td>\n",
       "      <td>NaN</td>\n",
       "      <td>2.100e+01</td>\n",
       "      <td>2.006e+03</td>\n",
       "      <td>2.800e+01</td>\n",
       "      <td>1.191e+01</td>\n",
       "      <td>1.910e+01</td>\n",
       "      <td>1.554e+01</td>\n",
       "      <td>3.720e+01</td>\n",
       "      <td>1.615e+02</td>\n",
       "      <td>6.876e+01</td>\n",
       "      <td>5.997e+01</td>\n",
       "    </tr>\n",
       "    <tr>\n",
       "      <th>max</th>\n",
       "      <td>1.610e+03</td>\n",
       "      <td>3.886e+03</td>\n",
       "      <td>3.327e+05</td>\n",
       "      <td>NaN</td>\n",
       "      <td>3.000e+01</td>\n",
       "      <td>2.013e+03</td>\n",
       "      <td>3.700e+01</td>\n",
       "      <td>2.069e+01</td>\n",
       "      <td>3.117e+01</td>\n",
       "      <td>2.530e+01</td>\n",
       "      <td>2.404e+02</td>\n",
       "      <td>2.990e+02</td>\n",
       "      <td>5.007e+02</td>\n",
       "      <td>1.424e+02</td>\n",
       "    </tr>\n",
       "  </tbody>\n",
       "</table>\n",
       "</div>"
      ],
      "text/plain": [
       "              ucs     safran        sol type_de_prairie    gestion      annee  \\\n",
       "count   1.869e+07  1.869e+07  1.869e+07        18693829  1.869e+07  1.867e+07   \n",
       "unique        NaN        NaN        NaN               3        NaN        NaN   \n",
       "top           NaN        NaN        NaN             tp4        NaN        NaN   \n",
       "freq          NaN        NaN        NaN        10563388        NaN        NaN   \n",
       "mean    1.054e+03  2.523e+03  3.308e+05             NaN  1.362e+01  1.999e+03   \n",
       "std     2.229e+02  5.508e+02  6.531e+02             NaN  9.407e+00  8.626e+00   \n",
       "min     6.400e+02  1.309e+03  3.303e+05             NaN  1.000e+00  1.984e+03   \n",
       "25%     8.880e+02  2.120e+03  3.306e+05             NaN  5.000e+00  1.991e+03   \n",
       "50%     1.080e+03  2.497e+03  3.306e+05             NaN  1.500e+01  1.999e+03   \n",
       "75%     1.222e+03  2.895e+03  3.306e+05             NaN  2.100e+01  2.006e+03   \n",
       "max     1.610e+03  3.886e+03  3.327e+05             NaN  3.000e+01  2.013e+03   \n",
       "\n",
       "           decade       Tmin       Tmax       Tmoy       Rain         RG  \\\n",
       "count   1.867e+07  1.857e+07  1.857e+07  1.857e+07  1.857e+07  1.857e+07   \n",
       "unique        NaN        NaN        NaN        NaN        NaN        NaN   \n",
       "top           NaN        NaN        NaN        NaN        NaN        NaN   \n",
       "freq          NaN        NaN        NaN        NaN        NaN        NaN   \n",
       "mean    1.900e+01  8.249e+00  1.464e+01  1.145e+01  2.578e+01  1.085e+02   \n",
       "std     1.068e+01  4.365e+00  5.607e+00  4.893e+00  2.499e+01  6.581e+01   \n",
       "min     1.000e+00 -8.760e+00 -5.380e+00 -7.020e+00  0.000e+00  7.170e+00   \n",
       "25%     1.000e+01  5.040e+00  1.043e+01  7.855e+00  6.800e+00  4.684e+01   \n",
       "50%     1.900e+01  8.290e+00  1.425e+01  1.118e+01  1.890e+01  1.043e+02   \n",
       "75%     2.800e+01  1.191e+01  1.910e+01  1.554e+01  3.720e+01  1.615e+02   \n",
       "max     3.700e+01  2.069e+01  3.117e+01  2.530e+01  2.404e+02  2.990e+02   \n",
       "\n",
       "               im  croissance  \n",
       "count   1.857e+07   1.867e+07  \n",
       "unique        NaN         NaN  \n",
       "top           NaN         NaN  \n",
       "freq          NaN         NaN  \n",
       "mean    4.798e+01   3.710e+01  \n",
       "std     4.897e+01   3.066e+01  \n",
       "min     0.000e+00   0.000e+00  \n",
       "25%     1.144e+01   1.090e+01  \n",
       "50%     3.297e+01   2.812e+01  \n",
       "75%     6.876e+01   5.997e+01  \n",
       "max     5.007e+02   1.424e+02  "
      ]
     },
     "execution_count": 11,
     "metadata": {},
     "output_type": "execute_result"
    }
   ],
   "source": [
    "df.describe(include= \"all\")"
   ]
  },
  {
   "cell_type": "code",
   "execution_count": 12,
   "id": "80b62cca-e5a4-45fb-9971-c11feb6ea1ec",
   "metadata": {},
   "outputs": [
    {
     "data": {
      "text/plain": [
       "9.566901385807041"
      ]
     },
     "execution_count": 12,
     "metadata": {},
     "output_type": "execute_result"
    }
   ],
   "source": [
    "df[\"croissance\"][\n",
    "    (df[\"decade\"] % 37 >= 1) &\n",
    "    (df[\"decade\"] % 37 <= 3) &\n",
    "    (df[\"annee\"] <= (df[\"annee\"].max() - 5))\n",
    "].mean()"
   ]
  },
  {
   "cell_type": "markdown",
   "id": "e1834636-1ddc-49fe-b807-76b820ab2a02",
   "metadata": {},
   "source": [
    "Average of the growth over the first three decades of previous years"
   ]
  },
  {
   "cell_type": "code",
   "execution_count": 13,
   "id": "65eebebc-7462-4330-b416-2a96ba24b54d",
   "metadata": {},
   "outputs": [
    {
     "data": {
      "text/plain": [
       "7.173342123796508"
      ]
     },
     "execution_count": 13,
     "metadata": {},
     "output_type": "execute_result"
    }
   ],
   "source": [
    "df[\"croissance\"][\n",
    "    (df[\"decade\"] == df[\"decade\"].max()) &\n",
    "    (df[\"annee\"] <= (df[\"annee\"].max() - 5))\n",
    "].mean()"
   ]
  },
  {
   "cell_type": "markdown",
   "id": "e9621cf5-2cf5-493e-8289-f125be19de21",
   "metadata": {},
   "source": [
    "Average of the growth over the last decade of previous years"
   ]
  },
  {
   "cell_type": "code",
   "execution_count": 14,
   "id": "52dba084-6200-4e47-abff-fbccbae1f928",
   "metadata": {},
   "outputs": [
    {
     "data": {
      "text/html": [
       "<div>\n",
       "<style scoped>\n",
       "    .dataframe tbody tr th:only-of-type {\n",
       "        vertical-align: middle;\n",
       "    }\n",
       "\n",
       "    .dataframe tbody tr th {\n",
       "        vertical-align: top;\n",
       "    }\n",
       "\n",
       "    .dataframe thead th {\n",
       "        text-align: right;\n",
       "    }\n",
       "</style>\n",
       "<table border=\"1\" class=\"dataframe\">\n",
       "  <thead>\n",
       "    <tr style=\"text-align: right;\">\n",
       "      <th></th>\n",
       "      <th>ucs</th>\n",
       "      <th>safran</th>\n",
       "      <th>sol</th>\n",
       "      <th>gestion</th>\n",
       "    </tr>\n",
       "  </thead>\n",
       "  <tbody>\n",
       "    <tr>\n",
       "      <th>ucs</th>\n",
       "      <td>1.000</td>\n",
       "      <td>0.937</td>\n",
       "      <td>0.085</td>\n",
       "      <td>-0.168</td>\n",
       "    </tr>\n",
       "    <tr>\n",
       "      <th>safran</th>\n",
       "      <td>0.937</td>\n",
       "      <td>1.000</td>\n",
       "      <td>0.032</td>\n",
       "      <td>-0.180</td>\n",
       "    </tr>\n",
       "    <tr>\n",
       "      <th>sol</th>\n",
       "      <td>0.085</td>\n",
       "      <td>0.032</td>\n",
       "      <td>1.000</td>\n",
       "      <td>-0.013</td>\n",
       "    </tr>\n",
       "    <tr>\n",
       "      <th>gestion</th>\n",
       "      <td>-0.168</td>\n",
       "      <td>-0.180</td>\n",
       "      <td>-0.013</td>\n",
       "      <td>1.000</td>\n",
       "    </tr>\n",
       "  </tbody>\n",
       "</table>\n",
       "</div>"
      ],
      "text/plain": [
       "           ucs  safran    sol  gestion\n",
       "ucs      1.000   0.937  0.085   -0.168\n",
       "safran   0.937   1.000  0.032   -0.180\n",
       "sol      0.085   0.032  1.000   -0.013\n",
       "gestion -0.168  -0.180 -0.013    1.000"
      ]
     },
     "execution_count": 14,
     "metadata": {},
     "output_type": "execute_result"
    }
   ],
   "source": [
    "df[[\"ucs\", \"safran\", \"sol\", \"gestion\"]].corr()"
   ]
  },
  {
   "cell_type": "markdown",
   "id": "53c1898f-45fb-40b2-9ce9-4c91710c94b5",
   "metadata": {},
   "source": [
    "## Feature extraction"
   ]
  },
  {
   "cell_type": "markdown",
   "id": "0b930164-5bf8-4d75-afc4-fef564f6aaef",
   "metadata": {},
   "source": [
    "Pedo-Climatic Units (PCU), result from the crossing of the climatic information (SAFRAN grid point) and soil information (UCS soil mapping units)."
   ]
  },
  {
   "cell_type": "code",
   "execution_count": 15,
   "id": "72f53380-88f4-4aac-8858-bd22166ec587",
   "metadata": {},
   "outputs": [
    {
     "data": {
      "text/html": [
       "<div>\n",
       "<style scoped>\n",
       "    .dataframe tbody tr th:only-of-type {\n",
       "        vertical-align: middle;\n",
       "    }\n",
       "\n",
       "    .dataframe tbody tr th {\n",
       "        vertical-align: top;\n",
       "    }\n",
       "\n",
       "    .dataframe thead th {\n",
       "        text-align: right;\n",
       "    }\n",
       "</style>\n",
       "<table border=\"1\" class=\"dataframe\">\n",
       "  <thead>\n",
       "    <tr style=\"text-align: right;\">\n",
       "      <th></th>\n",
       "      <th>pcu</th>\n",
       "      <th>ucs</th>\n",
       "      <th>safran</th>\n",
       "      <th>sol</th>\n",
       "      <th>type_de_prairie</th>\n",
       "      <th>gestion</th>\n",
       "      <th>annee</th>\n",
       "      <th>decade</th>\n",
       "      <th>Tmin</th>\n",
       "      <th>Tmax</th>\n",
       "      <th>Tmoy</th>\n",
       "      <th>Rain</th>\n",
       "      <th>RG</th>\n",
       "      <th>im</th>\n",
       "      <th>croissance</th>\n",
       "    </tr>\n",
       "  </thead>\n",
       "  <tbody>\n",
       "    <tr>\n",
       "      <th>0</th>\n",
       "      <td>0</td>\n",
       "      <td>789</td>\n",
       "      <td>2131</td>\n",
       "      <td>330343</td>\n",
       "      <td>tp3</td>\n",
       "      <td>20</td>\n",
       "      <td>1985.0</td>\n",
       "      <td>1.0</td>\n",
       "      <td>-2.289</td>\n",
       "      <td>3.178</td>\n",
       "      <td>0.444</td>\n",
       "      <td>12.3</td>\n",
       "      <td>28.912</td>\n",
       "      <td>43.573</td>\n",
       "      <td>0.032</td>\n",
       "    </tr>\n",
       "    <tr>\n",
       "      <th>1</th>\n",
       "      <td>0</td>\n",
       "      <td>789</td>\n",
       "      <td>2131</td>\n",
       "      <td>330343</td>\n",
       "      <td>tp3</td>\n",
       "      <td>20</td>\n",
       "      <td>1985.0</td>\n",
       "      <td>2.0</td>\n",
       "      <td>-5.740</td>\n",
       "      <td>-0.410</td>\n",
       "      <td>-3.075</td>\n",
       "      <td>19.5</td>\n",
       "      <td>33.793</td>\n",
       "      <td>104.188</td>\n",
       "      <td>0.000</td>\n",
       "    </tr>\n",
       "    <tr>\n",
       "      <th>2</th>\n",
       "      <td>0</td>\n",
       "      <td>789</td>\n",
       "      <td>2131</td>\n",
       "      <td>330343</td>\n",
       "      <td>tp3</td>\n",
       "      <td>20</td>\n",
       "      <td>1985.0</td>\n",
       "      <td>3.0</td>\n",
       "      <td>3.770</td>\n",
       "      <td>9.130</td>\n",
       "      <td>6.450</td>\n",
       "      <td>36.8</td>\n",
       "      <td>24.751</td>\n",
       "      <td>82.772</td>\n",
       "      <td>0.046</td>\n",
       "    </tr>\n",
       "    <tr>\n",
       "      <th>3</th>\n",
       "      <td>0</td>\n",
       "      <td>789</td>\n",
       "      <td>2131</td>\n",
       "      <td>330343</td>\n",
       "      <td>tp3</td>\n",
       "      <td>20</td>\n",
       "      <td>1985.0</td>\n",
       "      <td>4.0</td>\n",
       "      <td>8.230</td>\n",
       "      <td>12.450</td>\n",
       "      <td>10.340</td>\n",
       "      <td>14.4</td>\n",
       "      <td>32.975</td>\n",
       "      <td>26.195</td>\n",
       "      <td>0.075</td>\n",
       "    </tr>\n",
       "    <tr>\n",
       "      <th>4</th>\n",
       "      <td>0</td>\n",
       "      <td>789</td>\n",
       "      <td>2131</td>\n",
       "      <td>330343</td>\n",
       "      <td>tp3</td>\n",
       "      <td>20</td>\n",
       "      <td>1985.0</td>\n",
       "      <td>5.0</td>\n",
       "      <td>-1.380</td>\n",
       "      <td>2.520</td>\n",
       "      <td>0.570</td>\n",
       "      <td>25.3</td>\n",
       "      <td>48.912</td>\n",
       "      <td>88.562</td>\n",
       "      <td>0.015</td>\n",
       "    </tr>\n",
       "  </tbody>\n",
       "</table>\n",
       "</div>"
      ],
      "text/plain": [
       "   pcu  ucs  safran     sol type_de_prairie  gestion   annee  decade   Tmin  \\\n",
       "0    0  789    2131  330343             tp3       20  1985.0     1.0 -2.289   \n",
       "1    0  789    2131  330343             tp3       20  1985.0     2.0 -5.740   \n",
       "2    0  789    2131  330343             tp3       20  1985.0     3.0  3.770   \n",
       "3    0  789    2131  330343             tp3       20  1985.0     4.0  8.230   \n",
       "4    0  789    2131  330343             tp3       20  1985.0     5.0 -1.380   \n",
       "\n",
       "     Tmax    Tmoy  Rain      RG       im  croissance  \n",
       "0   3.178   0.444  12.3  28.912   43.573       0.032  \n",
       "1  -0.410  -3.075  19.5  33.793  104.188       0.000  \n",
       "2   9.130   6.450  36.8  24.751   82.772       0.046  \n",
       "3  12.450  10.340  14.4  32.975   26.195       0.075  \n",
       "4   2.520   0.570  25.3  48.912   88.562       0.015  "
      ]
     },
     "execution_count": 15,
     "metadata": {},
     "output_type": "execute_result"
    }
   ],
   "source": [
    "df_unique_pcu = df.drop_duplicates(subset= ['ucs', 'safran'])[[\"ucs\", \"safran\"]]\n",
    "df_unique_pcu['pcu'] = df_unique_pcu.reset_index().index\n",
    "\n",
    "df = pd.merge(df, df_unique_pcu, on= ['ucs','safran'])\n",
    "df.insert(0, \"pcu\", df.pop('pcu'))\n",
    "df.head()"
   ]
  },
  {
   "cell_type": "code",
   "execution_count": 16,
   "id": "af67106f-9253-47b8-93ca-56c3f268c846",
   "metadata": {},
   "outputs": [
    {
     "data": {
      "text/html": [
       "<div>\n",
       "<style scoped>\n",
       "    .dataframe tbody tr th:only-of-type {\n",
       "        vertical-align: middle;\n",
       "    }\n",
       "\n",
       "    .dataframe tbody tr th {\n",
       "        vertical-align: top;\n",
       "    }\n",
       "\n",
       "    .dataframe thead th {\n",
       "        text-align: right;\n",
       "    }\n",
       "</style>\n",
       "<table border=\"1\" class=\"dataframe\">\n",
       "  <thead>\n",
       "    <tr style=\"text-align: right;\">\n",
       "      <th></th>\n",
       "      <th>ucs</th>\n",
       "      <th>safran</th>\n",
       "      <th>sol</th>\n",
       "      <th>gestion</th>\n",
       "      <th>pcu</th>\n",
       "    </tr>\n",
       "  </thead>\n",
       "  <tbody>\n",
       "    <tr>\n",
       "      <th>ucs</th>\n",
       "      <td>1.000</td>\n",
       "      <td>0.937</td>\n",
       "      <td>0.085</td>\n",
       "      <td>-0.168</td>\n",
       "      <td>0.432</td>\n",
       "    </tr>\n",
       "    <tr>\n",
       "      <th>safran</th>\n",
       "      <td>0.937</td>\n",
       "      <td>1.000</td>\n",
       "      <td>0.032</td>\n",
       "      <td>-0.180</td>\n",
       "      <td>0.444</td>\n",
       "    </tr>\n",
       "    <tr>\n",
       "      <th>sol</th>\n",
       "      <td>0.085</td>\n",
       "      <td>0.032</td>\n",
       "      <td>1.000</td>\n",
       "      <td>-0.013</td>\n",
       "      <td>-0.085</td>\n",
       "    </tr>\n",
       "    <tr>\n",
       "      <th>gestion</th>\n",
       "      <td>-0.168</td>\n",
       "      <td>-0.180</td>\n",
       "      <td>-0.013</td>\n",
       "      <td>1.000</td>\n",
       "      <td>-0.084</td>\n",
       "    </tr>\n",
       "    <tr>\n",
       "      <th>pcu</th>\n",
       "      <td>0.432</td>\n",
       "      <td>0.444</td>\n",
       "      <td>-0.085</td>\n",
       "      <td>-0.084</td>\n",
       "      <td>1.000</td>\n",
       "    </tr>\n",
       "  </tbody>\n",
       "</table>\n",
       "</div>"
      ],
      "text/plain": [
       "           ucs  safran    sol  gestion    pcu\n",
       "ucs      1.000   0.937  0.085   -0.168  0.432\n",
       "safran   0.937   1.000  0.032   -0.180  0.444\n",
       "sol      0.085   0.032  1.000   -0.013 -0.085\n",
       "gestion -0.168  -0.180 -0.013    1.000 -0.084\n",
       "pcu      0.432   0.444 -0.085   -0.084  1.000"
      ]
     },
     "execution_count": 16,
     "metadata": {},
     "output_type": "execute_result"
    }
   ],
   "source": [
    "df[[\"ucs\", \"safran\", \"sol\", \"gestion\", \"pcu\"]].corr()"
   ]
  },
  {
   "cell_type": "code",
   "execution_count": 17,
   "id": "f2c7d3c6-06b7-42ff-a1b6-4ea1afb202da",
   "metadata": {},
   "outputs": [
    {
     "data": {
      "text/html": [
       "<div>\n",
       "<style scoped>\n",
       "    .dataframe tbody tr th:only-of-type {\n",
       "        vertical-align: middle;\n",
       "    }\n",
       "\n",
       "    .dataframe tbody tr th {\n",
       "        vertical-align: top;\n",
       "    }\n",
       "\n",
       "    .dataframe thead th {\n",
       "        text-align: right;\n",
       "    }\n",
       "</style>\n",
       "<table border=\"1\" class=\"dataframe\">\n",
       "  <thead>\n",
       "    <tr style=\"text-align: right;\">\n",
       "      <th></th>\n",
       "      <th>id</th>\n",
       "      <th>pcu</th>\n",
       "      <th>ucs</th>\n",
       "      <th>safran</th>\n",
       "      <th>sol</th>\n",
       "      <th>type_de_prairie</th>\n",
       "      <th>gestion</th>\n",
       "      <th>annee</th>\n",
       "      <th>decade</th>\n",
       "      <th>Tmin</th>\n",
       "      <th>Tmax</th>\n",
       "      <th>Tmoy</th>\n",
       "      <th>Rain</th>\n",
       "      <th>RG</th>\n",
       "      <th>im</th>\n",
       "      <th>croissance</th>\n",
       "    </tr>\n",
       "  </thead>\n",
       "  <tbody>\n",
       "    <tr>\n",
       "      <th>0</th>\n",
       "      <td>0</td>\n",
       "      <td>0</td>\n",
       "      <td>789</td>\n",
       "      <td>2131</td>\n",
       "      <td>330343</td>\n",
       "      <td>tp3</td>\n",
       "      <td>20</td>\n",
       "      <td>1985.0</td>\n",
       "      <td>1.0</td>\n",
       "      <td>-2.289</td>\n",
       "      <td>3.178</td>\n",
       "      <td>0.444</td>\n",
       "      <td>12.3</td>\n",
       "      <td>28.912</td>\n",
       "      <td>43.573</td>\n",
       "      <td>0.032</td>\n",
       "    </tr>\n",
       "    <tr>\n",
       "      <th>1</th>\n",
       "      <td>0</td>\n",
       "      <td>0</td>\n",
       "      <td>789</td>\n",
       "      <td>2131</td>\n",
       "      <td>330343</td>\n",
       "      <td>tp3</td>\n",
       "      <td>20</td>\n",
       "      <td>1985.0</td>\n",
       "      <td>2.0</td>\n",
       "      <td>-5.740</td>\n",
       "      <td>-0.410</td>\n",
       "      <td>-3.075</td>\n",
       "      <td>19.5</td>\n",
       "      <td>33.793</td>\n",
       "      <td>104.188</td>\n",
       "      <td>0.000</td>\n",
       "    </tr>\n",
       "    <tr>\n",
       "      <th>2</th>\n",
       "      <td>0</td>\n",
       "      <td>0</td>\n",
       "      <td>789</td>\n",
       "      <td>2131</td>\n",
       "      <td>330343</td>\n",
       "      <td>tp3</td>\n",
       "      <td>20</td>\n",
       "      <td>1985.0</td>\n",
       "      <td>3.0</td>\n",
       "      <td>3.770</td>\n",
       "      <td>9.130</td>\n",
       "      <td>6.450</td>\n",
       "      <td>36.8</td>\n",
       "      <td>24.751</td>\n",
       "      <td>82.772</td>\n",
       "      <td>0.046</td>\n",
       "    </tr>\n",
       "    <tr>\n",
       "      <th>3</th>\n",
       "      <td>0</td>\n",
       "      <td>0</td>\n",
       "      <td>789</td>\n",
       "      <td>2131</td>\n",
       "      <td>330343</td>\n",
       "      <td>tp3</td>\n",
       "      <td>20</td>\n",
       "      <td>1985.0</td>\n",
       "      <td>4.0</td>\n",
       "      <td>8.230</td>\n",
       "      <td>12.450</td>\n",
       "      <td>10.340</td>\n",
       "      <td>14.4</td>\n",
       "      <td>32.975</td>\n",
       "      <td>26.195</td>\n",
       "      <td>0.075</td>\n",
       "    </tr>\n",
       "    <tr>\n",
       "      <th>4</th>\n",
       "      <td>0</td>\n",
       "      <td>0</td>\n",
       "      <td>789</td>\n",
       "      <td>2131</td>\n",
       "      <td>330343</td>\n",
       "      <td>tp3</td>\n",
       "      <td>20</td>\n",
       "      <td>1985.0</td>\n",
       "      <td>5.0</td>\n",
       "      <td>-1.380</td>\n",
       "      <td>2.520</td>\n",
       "      <td>0.570</td>\n",
       "      <td>25.3</td>\n",
       "      <td>48.912</td>\n",
       "      <td>88.562</td>\n",
       "      <td>0.015</td>\n",
       "    </tr>\n",
       "  </tbody>\n",
       "</table>\n",
       "</div>"
      ],
      "text/plain": [
       "   id  pcu  ucs  safran     sol type_de_prairie  gestion   annee  decade  \\\n",
       "0   0    0  789    2131  330343             tp3       20  1985.0     1.0   \n",
       "1   0    0  789    2131  330343             tp3       20  1985.0     2.0   \n",
       "2   0    0  789    2131  330343             tp3       20  1985.0     3.0   \n",
       "3   0    0  789    2131  330343             tp3       20  1985.0     4.0   \n",
       "4   0    0  789    2131  330343             tp3       20  1985.0     5.0   \n",
       "\n",
       "    Tmin    Tmax    Tmoy  Rain      RG       im  croissance  \n",
       "0 -2.289   3.178   0.444  12.3  28.912   43.573       0.032  \n",
       "1 -5.740  -0.410  -3.075  19.5  33.793  104.188       0.000  \n",
       "2  3.770   9.130   6.450  36.8  24.751   82.772       0.046  \n",
       "3  8.230  12.450  10.340  14.4  32.975   26.195       0.075  \n",
       "4 -1.380   2.520   0.570  25.3  48.912   88.562       0.015  "
      ]
     },
     "execution_count": 17,
     "metadata": {},
     "output_type": "execute_result"
    }
   ],
   "source": [
    "df_unique_pcu = df.drop_duplicates(subset= ['ucs','safran', 'sol', 'type_de_prairie', 'gestion'])[['ucs','safran', 'sol', 'type_de_prairie', 'gestion']]\n",
    "df_unique_pcu['id'] = df_unique_pcu.reset_index().index\n",
    "\n",
    "df = pd.merge(df, df_unique_pcu, on= ['ucs','safran','sol', 'type_de_prairie', 'gestion'])\n",
    "df.insert(0, \"id\", df.pop('id'))\n",
    "df.head()"
   ]
  },
  {
   "cell_type": "code",
   "execution_count": 18,
   "id": "b10baa2f-1148-466d-9097-d9f943da9679",
   "metadata": {},
   "outputs": [
    {
     "data": {
      "text/plain": [
       "20262"
      ]
     },
     "execution_count": 18,
     "metadata": {},
     "output_type": "execute_result"
    }
   ],
   "source": [
    "df[[\"id\"]].drop_duplicates(\"id\").count()[\"id\"]"
   ]
  },
  {
   "cell_type": "markdown",
   "id": "3a45fe2a-38ba-4416-a763-f5d616cd88f0",
   "metadata": {},
   "source": [
    "C'est le nombre de tuples (UCS, SAFRAN, SOL, prairie, gestion) différents."
   ]
  },
  {
   "cell_type": "code",
   "execution_count": 19,
   "id": "1c0f7373-fda2-41c3-8531-5c0b5bc25079",
   "metadata": {},
   "outputs": [
    {
     "data": {
      "text/plain": [
       "1241"
      ]
     },
     "execution_count": 19,
     "metadata": {},
     "output_type": "execute_result"
    }
   ],
   "source": [
    "df[[\"pcu\"]].drop_duplicates(\"pcu\").count()[\"pcu\"]"
   ]
  },
  {
   "cell_type": "markdown",
   "id": "aa70d0dd-b089-476a-8619-f3ca6e15b79e",
   "metadata": {},
   "source": [
    "C'est le nombre de tuples (UCS, SAFRAN) différents."
   ]
  },
  {
   "cell_type": "code",
   "execution_count": 20,
   "id": "d9c27d65-79a6-43b9-9d6a-731e4c4a2fcc",
   "metadata": {},
   "outputs": [
    {
     "data": {
      "text/plain": [
       "True"
      ]
     },
     "execution_count": 20,
     "metadata": {},
     "output_type": "execute_result"
    }
   ],
   "source": [
    "(df.groupby([\"id\", \"annee\"]).count()[\"decade\"] == 37).all()"
   ]
  },
  {
   "cell_type": "markdown",
   "id": "97c23317-533a-4af0-a362-42a611ffb566",
   "metadata": {},
   "source": [
    "There is no more than one group of consecutive decades per year and per tuple (UCS, SAFRAN, SOL, prairie, gestion)."
   ]
  },
  {
   "cell_type": "code",
   "execution_count": 21,
   "id": "a717cf12-6ab1-4de7-a5d9-71067fa73ad1",
   "metadata": {},
   "outputs": [
    {
     "data": {
      "text/plain": [
       "True"
      ]
     },
     "execution_count": 21,
     "metadata": {},
     "output_type": "execute_result"
    }
   ],
   "source": [
    "(df.groupby([\"id\", \"annee\", \"decade\"]).count().max() == 1).all()"
   ]
  },
  {
   "cell_type": "markdown",
   "id": "742e9555-9b8c-4ba0-92f8-baee503b86f9",
   "metadata": {},
   "source": [
    "Moreover, there is only one entry per year and per decade for a fixed tuple (UCS, SAFRAN, SOL, prairie, gestion)."
   ]
  },
  {
   "cell_type": "code",
   "execution_count": 22,
   "id": "b3cec43a-53bf-4b9e-a8e0-e6563354d081",
   "metadata": {},
   "outputs": [
    {
     "data": {
      "text/html": [
       "<div>\n",
       "<style scoped>\n",
       "    .dataframe tbody tr th:only-of-type {\n",
       "        vertical-align: middle;\n",
       "    }\n",
       "\n",
       "    .dataframe tbody tr th {\n",
       "        vertical-align: top;\n",
       "    }\n",
       "\n",
       "    .dataframe thead th {\n",
       "        text-align: right;\n",
       "    }\n",
       "</style>\n",
       "<table border=\"1\" class=\"dataframe\">\n",
       "  <thead>\n",
       "    <tr style=\"text-align: right;\">\n",
       "      <th></th>\n",
       "      <th>annee</th>\n",
       "    </tr>\n",
       "  </thead>\n",
       "  <tbody>\n",
       "    <tr>\n",
       "      <th>min</th>\n",
       "      <td>15.0</td>\n",
       "    </tr>\n",
       "    <tr>\n",
       "      <th>25%</th>\n",
       "      <td>20.0</td>\n",
       "    </tr>\n",
       "    <tr>\n",
       "      <th>50%</th>\n",
       "      <td>22.0</td>\n",
       "    </tr>\n",
       "    <tr>\n",
       "      <th>75%</th>\n",
       "      <td>30.0</td>\n",
       "    </tr>\n",
       "    <tr>\n",
       "      <th>max</th>\n",
       "      <td>30.0</td>\n",
       "    </tr>\n",
       "  </tbody>\n",
       "</table>\n",
       "</div>"
      ],
      "text/plain": [
       "     annee\n",
       "min   15.0\n",
       "25%   20.0\n",
       "50%   22.0\n",
       "75%   30.0\n",
       "max   30.0"
      ]
     },
     "execution_count": 22,
     "metadata": {},
     "output_type": "execute_result"
    }
   ],
   "source": [
    "df.groupby([\"id\", \"decade\"]).count()[[\"annee\"]].describe().loc[\"min\":\"max\"]"
   ]
  },
  {
   "cell_type": "markdown",
   "id": "6f763d95-225a-436a-9097-0c8bddc65dbb",
   "metadata": {},
   "source": [
    "Finally, only the year will change over the whole simulated period, i.e. 30 years, for each decade and for any tuple (UCS, SAFRAN, SOL, prairie, gestion)."
   ]
  },
  {
   "cell_type": "markdown",
   "id": "8298099f-323d-45b5-839a-ed1f618f5ff2",
   "metadata": {},
   "source": [
    "Therefore, all groups of decades have the same values for the tuple (UCS, SAFRAN, SOL, prairie, gestion) and only the year will change (over the whole simulated period, ie 30 years)."
   ]
  },
  {
   "cell_type": "markdown",
   "id": "e300066c-cbc1-45ba-a20c-be260a258eaa",
   "metadata": {},
   "source": [
    "So (UCS, SAFRAN, SOL, prairie, gestion) is the identifier."
   ]
  },
  {
   "cell_type": "code",
   "execution_count": 23,
   "id": "34e7149a-d3d7-4446-a323-f68bb7b8ad8c",
   "metadata": {},
   "outputs": [],
   "source": [
    "identifier_columns = [\"ucs\", \"safran\", \"sol\", \"type_de_prairie\", \"gestion\"]"
   ]
  },
  {
   "cell_type": "markdown",
   "id": "629594a4-b92c-4a6d-8f30-57a8bad3e354",
   "metadata": {
    "tags": []
   },
   "source": [
    "## Select years"
   ]
  },
  {
   "cell_type": "code",
   "execution_count": 24,
   "id": "a1de41df-0130-4313-98eb-c63b61b7f89e",
   "metadata": {},
   "outputs": [],
   "source": [
    "nb_annees = 5\n",
    "annee_inf = df[\"annee\"].max() - nb_annees\n",
    "df = df.loc[(df[\"annee\"] > annee_inf), :]"
   ]
  },
  {
   "cell_type": "markdown",
   "id": "79cadce4-112f-4880-95cb-30eb9ff39c25",
   "metadata": {},
   "source": [
    "## Sort by ID, annee and then decade"
   ]
  },
  {
   "cell_type": "code",
   "execution_count": 25,
   "id": "5484bd21-1f0a-4982-b6d8-5fdd7e4ffb21",
   "metadata": {},
   "outputs": [],
   "source": [
    "df.sort_values(by= identifier_columns+[\"annee\", \"decade\"], inplace=True)"
   ]
  },
  {
   "cell_type": "code",
   "execution_count": 26,
   "id": "be098629-26b6-4bc1-bd21-05da2fa4c7f0",
   "metadata": {},
   "outputs": [],
   "source": [
    "identifier_columns.remove(\"type_de_prairie\")"
   ]
  },
  {
   "cell_type": "markdown",
   "id": "39b1f749-329d-4665-9754-3ad5a8ea0d00",
   "metadata": {},
   "source": [
    "## Data cleansing"
   ]
  },
  {
   "cell_type": "code",
   "execution_count": 27,
   "id": "393d0574-3953-4287-aa94-f679ba6581ba",
   "metadata": {},
   "outputs": [
    {
     "data": {
      "text/plain": [
       "id                     0\n",
       "pcu                    0\n",
       "ucs                    0\n",
       "safran                 0\n",
       "sol                    0\n",
       "type_de_prairie        0\n",
       "gestion                0\n",
       "annee                  0\n",
       "decade                 0\n",
       "Tmin               18796\n",
       "Tmax               18796\n",
       "Tmoy               18796\n",
       "Rain               18796\n",
       "RG                 18796\n",
       "im                 18796\n",
       "croissance             0\n",
       "dtype: int64"
      ]
     },
     "execution_count": 27,
     "metadata": {},
     "output_type": "execute_result"
    }
   ],
   "source": [
    "(df.isna() | df.isnull()).sum()"
   ]
  },
  {
   "cell_type": "code",
   "execution_count": 28,
   "id": "43684535-3c59-4d0a-88c4-04729d9e57c5",
   "metadata": {},
   "outputs": [],
   "source": [
    "df.dropna(inplace= True)"
   ]
  },
  {
   "cell_type": "code",
   "execution_count": 29,
   "id": "3437b355-8608-461b-adea-53d3a02ed17b",
   "metadata": {},
   "outputs": [
    {
     "data": {
      "text/plain": [
       "True"
      ]
     },
     "execution_count": 29,
     "metadata": {},
     "output_type": "execute_result"
    }
   ],
   "source": [
    "(df.isna() | df.isnull()).sum().sum() == 0"
   ]
  },
  {
   "cell_type": "markdown",
   "id": "209a928e-d3a1-4fa9-baad-befb438907c9",
   "metadata": {},
   "source": [
    "Now that we have removed the NaN and Null values, we need to check whether we have any missing decades among the years."
   ]
  },
  {
   "cell_type": "code",
   "execution_count": 30,
   "id": "2c4546db-151e-468a-8d44-10b974537178",
   "metadata": {},
   "outputs": [
    {
     "data": {
      "text/plain": [
       "True"
      ]
     },
     "execution_count": 30,
     "metadata": {},
     "output_type": "execute_result"
    }
   ],
   "source": [
    "(df.groupby([\"id\", \"annee\"]).count()[\"decade\"] == 37).all()"
   ]
  },
  {
   "cell_type": "markdown",
   "id": "d9144878-31e9-4da9-9236-654ffc1abb69",
   "metadata": {},
   "source": [
    "All the (id, year) pairs have a number of decades equals to 37, which means all of them remain complete."
   ]
  },
  {
   "cell_type": "code",
   "execution_count": 31,
   "id": "6645ab66-c290-49f4-b345-dd5460db6f86",
   "metadata": {},
   "outputs": [
    {
     "data": {
      "text/plain": [
       "20148"
      ]
     },
     "execution_count": 31,
     "metadata": {},
     "output_type": "execute_result"
    }
   ],
   "source": [
    "df.drop_duplicates(\"id\").count()[\"id\"]"
   ]
  },
  {
   "cell_type": "markdown",
   "id": "c6bdc37a-d337-41a9-be0b-275384bd3b62",
   "metadata": {},
   "source": [
    "This is the number of tuples (UCS, SAFRAN, SOL, grassland, management), or IDs, that have full years."
   ]
  },
  {
   "cell_type": "code",
   "execution_count": 27,
   "id": "95e18f02-425d-4a9b-85dc-cfd4c2f0f1c6",
   "metadata": {},
   "outputs": [
    {
     "data": {
      "text/html": [
       "<div>\n",
       "<style scoped>\n",
       "    .dataframe tbody tr th:only-of-type {\n",
       "        vertical-align: middle;\n",
       "    }\n",
       "\n",
       "    .dataframe tbody tr th {\n",
       "        vertical-align: top;\n",
       "    }\n",
       "\n",
       "    .dataframe thead th {\n",
       "        text-align: right;\n",
       "    }\n",
       "</style>\n",
       "<table border=\"1\" class=\"dataframe\">\n",
       "  <thead>\n",
       "    <tr style=\"text-align: right;\">\n",
       "      <th></th>\n",
       "      <th>annee</th>\n",
       "    </tr>\n",
       "  </thead>\n",
       "  <tbody>\n",
       "    <tr>\n",
       "      <th>min</th>\n",
       "      <td>3.0</td>\n",
       "    </tr>\n",
       "    <tr>\n",
       "      <th>25%</th>\n",
       "      <td>4.0</td>\n",
       "    </tr>\n",
       "    <tr>\n",
       "      <th>50%</th>\n",
       "      <td>4.0</td>\n",
       "    </tr>\n",
       "    <tr>\n",
       "      <th>75%</th>\n",
       "      <td>5.0</td>\n",
       "    </tr>\n",
       "    <tr>\n",
       "      <th>max</th>\n",
       "      <td>5.0</td>\n",
       "    </tr>\n",
       "  </tbody>\n",
       "</table>\n",
       "</div>"
      ],
      "text/plain": [
       "     annee\n",
       "min    3.0\n",
       "25%    4.0\n",
       "50%    4.0\n",
       "75%    5.0\n",
       "max    5.0"
      ]
     },
     "execution_count": 27,
     "metadata": {},
     "output_type": "execute_result"
    }
   ],
   "source": [
    "df.groupby([\"id\", \"decade\"]).count()[[\"annee\"]].describe().loc[\"min\":\"max\"]"
   ]
  },
  {
   "cell_type": "markdown",
   "id": "f31d6f9c-d0e4-4c73-9232-67a8577778ab",
   "metadata": {
    "tags": []
   },
   "source": [
    "## Correct the dataframe"
   ]
  },
  {
   "cell_type": "code",
   "execution_count": 28,
   "id": "867cf3e5-d664-409a-9919-976bc67866d6",
   "metadata": {
    "tags": []
   },
   "outputs": [],
   "source": [
    "df[\"annee\"] = df[\"annee\"].astype(\"int64\")\n",
    "df[\"decade\"] = df[\"decade\"].astype(\"int64\")"
   ]
  },
  {
   "cell_type": "code",
   "execution_count": 29,
   "id": "f53902fb-c94a-4a71-82e8-86e7ef782354",
   "metadata": {},
   "outputs": [
    {
     "name": "stdout",
     "output_type": "stream",
     "text": [
      "<class 'pandas.core.frame.DataFrame'>\n",
      "Int64Index: 3313979 entries, 701563 to 12506710\n",
      "Data columns (total 16 columns):\n",
      " #   Column           Dtype  \n",
      "---  ------           -----  \n",
      " 0   id               int64  \n",
      " 1   pcu              int64  \n",
      " 2   ucs              int32  \n",
      " 3   safran           int32  \n",
      " 4   sol              int32  \n",
      " 5   type_de_prairie  object \n",
      " 6   gestion          int32  \n",
      " 7   annee            int64  \n",
      " 8   decade           int64  \n",
      " 9   Tmin             float64\n",
      " 10  Tmax             float64\n",
      " 11  Tmoy             float64\n",
      " 12  Rain             float64\n",
      " 13  RG               float64\n",
      " 14  im               float64\n",
      " 15  croissance       float64\n",
      "dtypes: float64(7), int32(4), int64(4), object(1)\n",
      "memory usage: 379.3+ MB\n",
      "None\n"
     ]
    }
   ],
   "source": [
    "print(df.info())"
   ]
  },
  {
   "cell_type": "code",
   "execution_count": 30,
   "id": "af4b6764-4b46-461b-aa79-8e29688b3d9c",
   "metadata": {},
   "outputs": [],
   "source": [
    "croissance_et_climat_decadaires_preprocessed = df"
   ]
  },
  {
   "cell_type": "markdown",
   "id": "509c1dbe-b397-4b71-9ef9-c58cff719aa8",
   "metadata": {},
   "source": [
    "# Preparation of annual valuations"
   ]
  },
  {
   "cell_type": "code",
   "execution_count": 31,
   "id": "19b34282-a10d-436a-9b2c-b7388cba4e1e",
   "metadata": {},
   "outputs": [
    {
     "data": {
      "text/html": [
       "<div>\n",
       "<style scoped>\n",
       "    .dataframe tbody tr th:only-of-type {\n",
       "        vertical-align: middle;\n",
       "    }\n",
       "\n",
       "    .dataframe tbody tr th {\n",
       "        vertical-align: top;\n",
       "    }\n",
       "\n",
       "    .dataframe thead th {\n",
       "        text-align: right;\n",
       "    }\n",
       "</style>\n",
       "<table border=\"1\" class=\"dataframe\">\n",
       "  <thead>\n",
       "    <tr style=\"text-align: right;\">\n",
       "      <th></th>\n",
       "      <th>ucs</th>\n",
       "      <th>safran</th>\n",
       "      <th>sol</th>\n",
       "      <th>type_de_prairie</th>\n",
       "      <th>gestion</th>\n",
       "      <th>annee</th>\n",
       "      <th>valorisation</th>\n",
       "      <th>RU</th>\n",
       "      <th>cumul_croissance</th>\n",
       "    </tr>\n",
       "  </thead>\n",
       "  <tbody>\n",
       "    <tr>\n",
       "      <th>0</th>\n",
       "      <td>1005</td>\n",
       "      <td>2245</td>\n",
       "      <td>330562</td>\n",
       "      <td>tp3</td>\n",
       "      <td>15</td>\n",
       "      <td>1985.0</td>\n",
       "      <td>4.964</td>\n",
       "      <td>97.42</td>\n",
       "      <td>8.757</td>\n",
       "    </tr>\n",
       "    <tr>\n",
       "      <th>1</th>\n",
       "      <td>1005</td>\n",
       "      <td>2245</td>\n",
       "      <td>330562</td>\n",
       "      <td>tp3</td>\n",
       "      <td>15</td>\n",
       "      <td>1986.0</td>\n",
       "      <td>8.173</td>\n",
       "      <td>97.42</td>\n",
       "      <td>14.620</td>\n",
       "    </tr>\n",
       "    <tr>\n",
       "      <th>2</th>\n",
       "      <td>1005</td>\n",
       "      <td>2245</td>\n",
       "      <td>330562</td>\n",
       "      <td>tp3</td>\n",
       "      <td>15</td>\n",
       "      <td>1987.0</td>\n",
       "      <td>12.666</td>\n",
       "      <td>97.42</td>\n",
       "      <td>16.287</td>\n",
       "    </tr>\n",
       "    <tr>\n",
       "      <th>3</th>\n",
       "      <td>1005</td>\n",
       "      <td>2245</td>\n",
       "      <td>330562</td>\n",
       "      <td>tp3</td>\n",
       "      <td>15</td>\n",
       "      <td>1989.0</td>\n",
       "      <td>5.825</td>\n",
       "      <td>97.42</td>\n",
       "      <td>9.063</td>\n",
       "    </tr>\n",
       "    <tr>\n",
       "      <th>4</th>\n",
       "      <td>1005</td>\n",
       "      <td>2245</td>\n",
       "      <td>330562</td>\n",
       "      <td>tp3</td>\n",
       "      <td>15</td>\n",
       "      <td>1990.0</td>\n",
       "      <td>7.212</td>\n",
       "      <td>97.42</td>\n",
       "      <td>11.758</td>\n",
       "    </tr>\n",
       "  </tbody>\n",
       "</table>\n",
       "</div>"
      ],
      "text/plain": [
       "    ucs  safran     sol type_de_prairie  gestion   annee  valorisation     RU  \\\n",
       "0  1005    2245  330562             tp3       15  1985.0         4.964  97.42   \n",
       "1  1005    2245  330562             tp3       15  1986.0         8.173  97.42   \n",
       "2  1005    2245  330562             tp3       15  1987.0        12.666  97.42   \n",
       "3  1005    2245  330562             tp3       15  1989.0         5.825  97.42   \n",
       "4  1005    2245  330562             tp3       15  1990.0         7.212  97.42   \n",
       "\n",
       "   cumul_croissance  \n",
       "0             8.757  \n",
       "1            14.620  \n",
       "2            16.287  \n",
       "3             9.063  \n",
       "4            11.758  "
      ]
     },
     "execution_count": 31,
     "metadata": {},
     "output_type": "execute_result"
    }
   ],
   "source": [
    "df = valorisation_annuelle\n",
    "df.head()"
   ]
  },
  {
   "cell_type": "markdown",
   "id": "ddfc80c4-5ff1-421c-bc06-2bf88898627a",
   "metadata": {},
   "source": [
    "## Feature selection"
   ]
  },
  {
   "cell_type": "code",
   "execution_count": 32,
   "id": "2190c9c5-342d-40eb-843a-a472f6d879bd",
   "metadata": {},
   "outputs": [],
   "source": [
    "valuable_columns = identifier_columns+[\"annee\", \"cumul_croissance\"]\n",
    "df = valorisation_annuelle.loc[:, valuable_columns]"
   ]
  },
  {
   "cell_type": "code",
   "execution_count": 33,
   "id": "6574d0e6-0f00-4308-8da8-1b4830b5c38d",
   "metadata": {},
   "outputs": [
    {
     "data": {
      "text/plain": [
       "ucs                 0\n",
       "safran              0\n",
       "sol                 0\n",
       "gestion             0\n",
       "annee               0\n",
       "cumul_croissance    0\n",
       "dtype: int64"
      ]
     },
     "execution_count": 33,
     "metadata": {},
     "output_type": "execute_result"
    }
   ],
   "source": [
    "(df.isna() | df.isnull()).sum()"
   ]
  },
  {
   "cell_type": "markdown",
   "id": "1dd93a81-1aae-4221-882d-f501132b921f",
   "metadata": {},
   "source": [
    "## Correct the dataframe"
   ]
  },
  {
   "cell_type": "code",
   "execution_count": 34,
   "id": "7e414dd2-1393-4b30-b9c9-fc91afa172b9",
   "metadata": {},
   "outputs": [
    {
     "data": {
      "text/html": [
       "<div>\n",
       "<style scoped>\n",
       "    .dataframe tbody tr th:only-of-type {\n",
       "        vertical-align: middle;\n",
       "    }\n",
       "\n",
       "    .dataframe tbody tr th {\n",
       "        vertical-align: top;\n",
       "    }\n",
       "\n",
       "    .dataframe thead th {\n",
       "        text-align: right;\n",
       "    }\n",
       "</style>\n",
       "<table border=\"1\" class=\"dataframe\">\n",
       "  <thead>\n",
       "    <tr style=\"text-align: right;\">\n",
       "      <th></th>\n",
       "      <th>ucs</th>\n",
       "      <th>safran</th>\n",
       "      <th>sol</th>\n",
       "      <th>gestion</th>\n",
       "      <th>annee</th>\n",
       "      <th>cumul_croissance</th>\n",
       "    </tr>\n",
       "  </thead>\n",
       "  <tbody>\n",
       "    <tr>\n",
       "      <th>0</th>\n",
       "      <td>1005</td>\n",
       "      <td>2245</td>\n",
       "      <td>330562</td>\n",
       "      <td>15</td>\n",
       "      <td>1985</td>\n",
       "      <td>8.757</td>\n",
       "    </tr>\n",
       "    <tr>\n",
       "      <th>1</th>\n",
       "      <td>1005</td>\n",
       "      <td>2245</td>\n",
       "      <td>330562</td>\n",
       "      <td>15</td>\n",
       "      <td>1986</td>\n",
       "      <td>14.620</td>\n",
       "    </tr>\n",
       "    <tr>\n",
       "      <th>2</th>\n",
       "      <td>1005</td>\n",
       "      <td>2245</td>\n",
       "      <td>330562</td>\n",
       "      <td>15</td>\n",
       "      <td>1987</td>\n",
       "      <td>16.287</td>\n",
       "    </tr>\n",
       "    <tr>\n",
       "      <th>3</th>\n",
       "      <td>1005</td>\n",
       "      <td>2245</td>\n",
       "      <td>330562</td>\n",
       "      <td>15</td>\n",
       "      <td>1989</td>\n",
       "      <td>9.063</td>\n",
       "    </tr>\n",
       "    <tr>\n",
       "      <th>4</th>\n",
       "      <td>1005</td>\n",
       "      <td>2245</td>\n",
       "      <td>330562</td>\n",
       "      <td>15</td>\n",
       "      <td>1990</td>\n",
       "      <td>11.758</td>\n",
       "    </tr>\n",
       "  </tbody>\n",
       "</table>\n",
       "</div>"
      ],
      "text/plain": [
       "    ucs  safran     sol  gestion  annee  cumul_croissance\n",
       "0  1005    2245  330562       15   1985             8.757\n",
       "1  1005    2245  330562       15   1986            14.620\n",
       "2  1005    2245  330562       15   1987            16.287\n",
       "3  1005    2245  330562       15   1989             9.063\n",
       "4  1005    2245  330562       15   1990            11.758"
      ]
     },
     "execution_count": 34,
     "metadata": {},
     "output_type": "execute_result"
    }
   ],
   "source": [
    "df[[\"annee\"]] = df[[\"annee\"]].astype(\"int64\")\n",
    "df[[\"cumul_croissance\"]] = df[[\"cumul_croissance\"]].astype(\"float64\")\n",
    "df.head()"
   ]
  },
  {
   "cell_type": "code",
   "execution_count": 35,
   "id": "8cf43921-c4a3-4381-afd7-b519b66dfc18",
   "metadata": {},
   "outputs": [],
   "source": [
    "valorisation_annuelle_preprocessed = df"
   ]
  },
  {
   "cell_type": "markdown",
   "id": "bfecc867-6608-4a04-8e80-3cd1aca1e1bd",
   "metadata": {
    "tags": []
   },
   "source": [
    "# Concatenation"
   ]
  },
  {
   "cell_type": "code",
   "execution_count": 36,
   "id": "151ca0dc-7c92-4660-b5f1-4ea052a634b9",
   "metadata": {
    "tags": []
   },
   "outputs": [
    {
     "data": {
      "text/html": [
       "<div>\n",
       "<style scoped>\n",
       "    .dataframe tbody tr th:only-of-type {\n",
       "        vertical-align: middle;\n",
       "    }\n",
       "\n",
       "    .dataframe tbody tr th {\n",
       "        vertical-align: top;\n",
       "    }\n",
       "\n",
       "    .dataframe thead th {\n",
       "        text-align: right;\n",
       "    }\n",
       "</style>\n",
       "<table border=\"1\" class=\"dataframe\">\n",
       "  <thead>\n",
       "    <tr style=\"text-align: right;\">\n",
       "      <th></th>\n",
       "      <th>id</th>\n",
       "      <th>pcu</th>\n",
       "      <th>ucs</th>\n",
       "      <th>safran</th>\n",
       "      <th>sol</th>\n",
       "      <th>type_de_prairie</th>\n",
       "      <th>gestion</th>\n",
       "      <th>annee</th>\n",
       "      <th>decade</th>\n",
       "      <th>Tmin</th>\n",
       "      <th>Tmax</th>\n",
       "      <th>Tmoy</th>\n",
       "      <th>Rain</th>\n",
       "      <th>RG</th>\n",
       "      <th>im</th>\n",
       "      <th>croissance</th>\n",
       "      <th>cumul_croissance</th>\n",
       "    </tr>\n",
       "  </thead>\n",
       "  <tbody>\n",
       "    <tr>\n",
       "      <th>35</th>\n",
       "      <td>746</td>\n",
       "      <td>47</td>\n",
       "      <td>640</td>\n",
       "      <td>1309</td>\n",
       "      <td>330637</td>\n",
       "      <td>tp3</td>\n",
       "      <td>3</td>\n",
       "      <td>2009</td>\n",
       "      <td>36</td>\n",
       "      <td>2.090</td>\n",
       "      <td>6.450</td>\n",
       "      <td>4.270</td>\n",
       "      <td>48.2</td>\n",
       "      <td>22.14</td>\n",
       "      <td>124.975</td>\n",
       "      <td>0.017</td>\n",
       "      <td>17.656</td>\n",
       "    </tr>\n",
       "    <tr>\n",
       "      <th>36</th>\n",
       "      <td>746</td>\n",
       "      <td>47</td>\n",
       "      <td>640</td>\n",
       "      <td>1309</td>\n",
       "      <td>330637</td>\n",
       "      <td>tp3</td>\n",
       "      <td>3</td>\n",
       "      <td>2009</td>\n",
       "      <td>37</td>\n",
       "      <td>6.417</td>\n",
       "      <td>10.283</td>\n",
       "      <td>8.350</td>\n",
       "      <td>33.8</td>\n",
       "      <td>12.06</td>\n",
       "      <td>68.153</td>\n",
       "      <td>0.297</td>\n",
       "      <td>17.656</td>\n",
       "    </tr>\n",
       "    <tr>\n",
       "      <th>37</th>\n",
       "      <td>746</td>\n",
       "      <td>47</td>\n",
       "      <td>640</td>\n",
       "      <td>1309</td>\n",
       "      <td>330637</td>\n",
       "      <td>tp3</td>\n",
       "      <td>3</td>\n",
       "      <td>2010</td>\n",
       "      <td>1</td>\n",
       "      <td>0.700</td>\n",
       "      <td>4.156</td>\n",
       "      <td>2.428</td>\n",
       "      <td>23.3</td>\n",
       "      <td>20.46</td>\n",
       "      <td>69.369</td>\n",
       "      <td>1.563</td>\n",
       "      <td>16.509</td>\n",
       "    </tr>\n",
       "    <tr>\n",
       "      <th>38</th>\n",
       "      <td>746</td>\n",
       "      <td>47</td>\n",
       "      <td>640</td>\n",
       "      <td>1309</td>\n",
       "      <td>330637</td>\n",
       "      <td>tp3</td>\n",
       "      <td>3</td>\n",
       "      <td>2010</td>\n",
       "      <td>2</td>\n",
       "      <td>2.860</td>\n",
       "      <td>8.160</td>\n",
       "      <td>5.510</td>\n",
       "      <td>25.9</td>\n",
       "      <td>30.43</td>\n",
       "      <td>61.786</td>\n",
       "      <td>4.439</td>\n",
       "      <td>16.509</td>\n",
       "    </tr>\n",
       "  </tbody>\n",
       "</table>\n",
       "</div>"
      ],
      "text/plain": [
       "     id  pcu  ucs  safran     sol type_de_prairie  gestion  annee  decade  \\\n",
       "35  746   47  640    1309  330637             tp3        3   2009      36   \n",
       "36  746   47  640    1309  330637             tp3        3   2009      37   \n",
       "37  746   47  640    1309  330637             tp3        3   2010       1   \n",
       "38  746   47  640    1309  330637             tp3        3   2010       2   \n",
       "\n",
       "     Tmin    Tmax   Tmoy  Rain     RG       im  croissance  cumul_croissance  \n",
       "35  2.090   6.450  4.270  48.2  22.14  124.975       0.017            17.656  \n",
       "36  6.417  10.283  8.350  33.8  12.06   68.153       0.297            17.656  \n",
       "37  0.700   4.156  2.428  23.3  20.46   69.369       1.563            16.509  \n",
       "38  2.860   8.160  5.510  25.9  30.43   61.786       4.439            16.509  "
      ]
     },
     "execution_count": 36,
     "metadata": {},
     "output_type": "execute_result"
    }
   ],
   "source": [
    "X = croissance_et_climat_decadaires_preprocessed.merge(valorisation_annuelle_preprocessed, how= 'left', on= identifier_columns+[\"annee\"])\n",
    "X.iloc[35:39]"
   ]
  },
  {
   "cell_type": "markdown",
   "id": "f716ef79-7f79-4fa2-aa44-72d61c67cf5d",
   "metadata": {},
   "source": [
    "We can see that when a decade ends (passage from the 37th decade to the 1st), we change year (passage from 1985 to 1986) and we remain in the same tuple (UCS, SAFRAN, SOL, grassland, management), or ID."
   ]
  },
  {
   "cell_type": "code",
   "execution_count": 37,
   "id": "22db2b3a-0643-407a-8195-2d24fd8ee2c4",
   "metadata": {},
   "outputs": [],
   "source": [
    "identifier_columns[3:3] += [\"type_de_prairie\"]"
   ]
  },
  {
   "cell_type": "markdown",
   "id": "27474177-f493-487f-831b-09f09ac5fa81",
   "metadata": {},
   "source": [
    "## Cleansing of abberations"
   ]
  },
  {
   "cell_type": "code",
   "execution_count": 38,
   "id": "76188902-ea38-4115-9404-02482ba9fc40",
   "metadata": {},
   "outputs": [
    {
     "data": {
      "text/plain": [
       "42835"
      ]
     },
     "execution_count": 38,
     "metadata": {},
     "output_type": "execute_result"
    }
   ],
   "source": [
    "WrongCumul = X.groupby(identifier_columns+[\"annee\"]).sum(numeric_only= True)[\"croissance\"] / 100 != X.groupby(identifier_columns+[\"annee\"]).last()[\"cumul_croissance\"]\n",
    "WrongCumul.sum()"
   ]
  },
  {
   "cell_type": "markdown",
   "id": "8a1a758f-069d-43a7-8f82-982f468d6a28",
   "metadata": {},
   "source": [
    "This is the number of pairs (id, year) whose theoretical cumulative growth is not equal to the observed cumulative growth."
   ]
  },
  {
   "cell_type": "code",
   "execution_count": 39,
   "id": "79d1d816-6f57-484e-ac0d-ef6590e020c7",
   "metadata": {},
   "outputs": [
    {
     "data": {
      "text/html": [
       "<div>\n",
       "<style scoped>\n",
       "    .dataframe tbody tr th:only-of-type {\n",
       "        vertical-align: middle;\n",
       "    }\n",
       "\n",
       "    .dataframe tbody tr th {\n",
       "        vertical-align: top;\n",
       "    }\n",
       "\n",
       "    .dataframe thead th {\n",
       "        text-align: right;\n",
       "    }\n",
       "</style>\n",
       "<table border=\"1\" class=\"dataframe\">\n",
       "  <thead>\n",
       "    <tr style=\"text-align: right;\">\n",
       "      <th></th>\n",
       "      <th>id</th>\n",
       "      <th>pcu</th>\n",
       "      <th>ucs</th>\n",
       "      <th>safran</th>\n",
       "      <th>sol</th>\n",
       "      <th>type_de_prairie</th>\n",
       "      <th>gestion</th>\n",
       "      <th>annee</th>\n",
       "      <th>decade</th>\n",
       "      <th>Tmin</th>\n",
       "      <th>Tmax</th>\n",
       "      <th>Tmoy</th>\n",
       "      <th>Rain</th>\n",
       "      <th>RG</th>\n",
       "      <th>im</th>\n",
       "      <th>croissance</th>\n",
       "      <th>cumul_croissance</th>\n",
       "    </tr>\n",
       "  </thead>\n",
       "  <tbody>\n",
       "    <tr>\n",
       "      <th>0</th>\n",
       "      <td>746</td>\n",
       "      <td>47</td>\n",
       "      <td>640</td>\n",
       "      <td>1309</td>\n",
       "      <td>330637</td>\n",
       "      <td>tp3</td>\n",
       "      <td>3</td>\n",
       "      <td>2009</td>\n",
       "      <td>1</td>\n",
       "      <td>-0.211</td>\n",
       "      <td>4.00</td>\n",
       "      <td>1.894</td>\n",
       "      <td>7.7</td>\n",
       "      <td>36.41</td>\n",
       "      <td>23.952</td>\n",
       "      <td>0.216</td>\n",
       "      <td>17.656</td>\n",
       "    </tr>\n",
       "    <tr>\n",
       "      <th>1</th>\n",
       "      <td>746</td>\n",
       "      <td>47</td>\n",
       "      <td>640</td>\n",
       "      <td>1309</td>\n",
       "      <td>330637</td>\n",
       "      <td>tp3</td>\n",
       "      <td>3</td>\n",
       "      <td>2009</td>\n",
       "      <td>2</td>\n",
       "      <td>4.520</td>\n",
       "      <td>9.08</td>\n",
       "      <td>6.800</td>\n",
       "      <td>33.1</td>\n",
       "      <td>33.31</td>\n",
       "      <td>72.899</td>\n",
       "      <td>11.649</td>\n",
       "      <td>17.656</td>\n",
       "    </tr>\n",
       "    <tr>\n",
       "      <th>2</th>\n",
       "      <td>746</td>\n",
       "      <td>47</td>\n",
       "      <td>640</td>\n",
       "      <td>1309</td>\n",
       "      <td>330637</td>\n",
       "      <td>tp3</td>\n",
       "      <td>3</td>\n",
       "      <td>2009</td>\n",
       "      <td>3</td>\n",
       "      <td>5.010</td>\n",
       "      <td>9.35</td>\n",
       "      <td>7.180</td>\n",
       "      <td>70.6</td>\n",
       "      <td>32.13</td>\n",
       "      <td>152.049</td>\n",
       "      <td>12.362</td>\n",
       "      <td>17.656</td>\n",
       "    </tr>\n",
       "    <tr>\n",
       "      <th>3</th>\n",
       "      <td>746</td>\n",
       "      <td>47</td>\n",
       "      <td>640</td>\n",
       "      <td>1309</td>\n",
       "      <td>330637</td>\n",
       "      <td>tp3</td>\n",
       "      <td>3</td>\n",
       "      <td>2009</td>\n",
       "      <td>4</td>\n",
       "      <td>2.730</td>\n",
       "      <td>6.41</td>\n",
       "      <td>4.570</td>\n",
       "      <td>24.9</td>\n",
       "      <td>40.76</td>\n",
       "      <td>63.233</td>\n",
       "      <td>6.984</td>\n",
       "      <td>17.656</td>\n",
       "    </tr>\n",
       "    <tr>\n",
       "      <th>4</th>\n",
       "      <td>746</td>\n",
       "      <td>47</td>\n",
       "      <td>640</td>\n",
       "      <td>1309</td>\n",
       "      <td>330637</td>\n",
       "      <td>tp3</td>\n",
       "      <td>3</td>\n",
       "      <td>2009</td>\n",
       "      <td>5</td>\n",
       "      <td>3.740</td>\n",
       "      <td>9.05</td>\n",
       "      <td>6.395</td>\n",
       "      <td>26.0</td>\n",
       "      <td>54.43</td>\n",
       "      <td>58.676</td>\n",
       "      <td>10.092</td>\n",
       "      <td>17.656</td>\n",
       "    </tr>\n",
       "  </tbody>\n",
       "</table>\n",
       "</div>"
      ],
      "text/plain": [
       "    id  pcu  ucs  safran     sol type_de_prairie  gestion  annee  decade  \\\n",
       "0  746   47  640    1309  330637             tp3        3   2009       1   \n",
       "1  746   47  640    1309  330637             tp3        3   2009       2   \n",
       "2  746   47  640    1309  330637             tp3        3   2009       3   \n",
       "3  746   47  640    1309  330637             tp3        3   2009       4   \n",
       "4  746   47  640    1309  330637             tp3        3   2009       5   \n",
       "\n",
       "    Tmin  Tmax   Tmoy  Rain     RG       im  croissance  cumul_croissance  \n",
       "0 -0.211  4.00  1.894   7.7  36.41   23.952       0.216            17.656  \n",
       "1  4.520  9.08  6.800  33.1  33.31   72.899      11.649            17.656  \n",
       "2  5.010  9.35  7.180  70.6  32.13  152.049      12.362            17.656  \n",
       "3  2.730  6.41  4.570  24.9  40.76   63.233       6.984            17.656  \n",
       "4  3.740  9.05  6.395  26.0  54.43   58.676      10.092            17.656  "
      ]
     },
     "execution_count": 39,
     "metadata": {},
     "output_type": "execute_result"
    }
   ],
   "source": [
    "X = X.merge(WrongCumul.reset_index(), how='left', on= identifier_columns+[\"annee\"])\n",
    "WrongIndexes = X[X[0] == True].index\n",
    "\n",
    "X.drop(WrongIndexes, inplace= True)\n",
    "X.drop(columns=0, inplace= True)\n",
    "X.head()"
   ]
  },
  {
   "cell_type": "markdown",
   "id": "1ee0e507-00ef-424a-9715-8c1e95422446",
   "metadata": {},
   "source": [
    "## Split dataset"
   ]
  },
  {
   "cell_type": "code",
   "execution_count": 42,
   "id": "4901288f-f27e-4f04-806e-0a4b5999dda6",
   "metadata": {},
   "outputs": [],
   "source": [
    "safran_quantile_07 = X.drop_duplicates(\"safran\")[\"safran\"].quantile(0.7)\n",
    "# Train set is 70% of the data set\n",
    "train_index = X[X[\"safran\"] <= safran_quantile_07].index\n",
    "test_index = X[X[\"safran\"] > safran_quantile_07].index\n",
    "\n",
    "safran_test_median = X[X.index.isin(test_index)].drop_duplicates(\"safran\")[\"safran\"].median()\n",
    "# Validation set is 15% of the data set\n",
    "val_index = X[(X[\"safran\"] <= safran_test_median) & (X[\"safran\"] > safran_quantile_07)].index\n",
    "# Test set is 15% of the data set\n",
    "test_index = X[X[\"safran\"] > safran_test_median].index\n",
    "\n",
    "## Before and after the quantile make 100% of the safran values.\n",
    "assert    X[X.index.isin(train_index)].drop_duplicates(\"safran\")[\"safran\"].count() \\\n",
    "       +  X[X.index.isin(val_index)].drop_duplicates(\"safran\")[\"safran\"].count() \\\n",
    "       +  X[X.index.isin(test_index)].drop_duplicates(\"safran\")[\"safran\"].count() \\\n",
    "       == X.drop_duplicates(\"safran\")[\"safran\"].count()\n",
    "\n",
    "## Train set and test set make 100% of the dataset.\n",
    "assert    len(X[X.index.isin(train_index)]) \\\n",
    "       +  len(X[X.index.isin(val_index)]) \\\n",
    "       +  len(X[X.index.isin(test_index)]) \\\n",
    "       == len(X)"
   ]
  },
  {
   "cell_type": "code",
   "execution_count": 43,
   "id": "e6fbe0d5-fbe9-4a13-9bd7-21d8f602ce56",
   "metadata": {},
   "outputs": [
    {
     "data": {
      "text/html": [
       "<div>\n",
       "<style scoped>\n",
       "    .dataframe tbody tr th:only-of-type {\n",
       "        vertical-align: middle;\n",
       "    }\n",
       "\n",
       "    .dataframe tbody tr th {\n",
       "        vertical-align: top;\n",
       "    }\n",
       "\n",
       "    .dataframe thead th {\n",
       "        text-align: right;\n",
       "    }\n",
       "</style>\n",
       "<table border=\"1\" class=\"dataframe\">\n",
       "  <thead>\n",
       "    <tr style=\"text-align: right;\">\n",
       "      <th></th>\n",
       "      <th>Tmin</th>\n",
       "      <th>Tmax</th>\n",
       "      <th>Tmoy</th>\n",
       "      <th>Rain</th>\n",
       "      <th>RG</th>\n",
       "      <th>im</th>\n",
       "      <th>croissance</th>\n",
       "      <th>cumul_croissance</th>\n",
       "    </tr>\n",
       "  </thead>\n",
       "  <tbody>\n",
       "    <tr>\n",
       "      <th>0</th>\n",
       "      <td>-0.211</td>\n",
       "      <td>4.00</td>\n",
       "      <td>1.894</td>\n",
       "      <td>7.7</td>\n",
       "      <td>36.41</td>\n",
       "      <td>23.952</td>\n",
       "      <td>0.216</td>\n",
       "      <td>17.656</td>\n",
       "    </tr>\n",
       "    <tr>\n",
       "      <th>1</th>\n",
       "      <td>4.520</td>\n",
       "      <td>9.08</td>\n",
       "      <td>6.800</td>\n",
       "      <td>33.1</td>\n",
       "      <td>33.31</td>\n",
       "      <td>72.899</td>\n",
       "      <td>11.649</td>\n",
       "      <td>17.656</td>\n",
       "    </tr>\n",
       "    <tr>\n",
       "      <th>2</th>\n",
       "      <td>5.010</td>\n",
       "      <td>9.35</td>\n",
       "      <td>7.180</td>\n",
       "      <td>70.6</td>\n",
       "      <td>32.13</td>\n",
       "      <td>152.049</td>\n",
       "      <td>12.362</td>\n",
       "      <td>17.656</td>\n",
       "    </tr>\n",
       "    <tr>\n",
       "      <th>3</th>\n",
       "      <td>2.730</td>\n",
       "      <td>6.41</td>\n",
       "      <td>4.570</td>\n",
       "      <td>24.9</td>\n",
       "      <td>40.76</td>\n",
       "      <td>63.233</td>\n",
       "      <td>6.984</td>\n",
       "      <td>17.656</td>\n",
       "    </tr>\n",
       "    <tr>\n",
       "      <th>4</th>\n",
       "      <td>3.740</td>\n",
       "      <td>9.05</td>\n",
       "      <td>6.395</td>\n",
       "      <td>26.0</td>\n",
       "      <td>54.43</td>\n",
       "      <td>58.676</td>\n",
       "      <td>10.092</td>\n",
       "      <td>17.656</td>\n",
       "    </tr>\n",
       "  </tbody>\n",
       "</table>\n",
       "</div>"
      ],
      "text/plain": [
       "    Tmin  Tmax   Tmoy  Rain     RG       im  croissance  cumul_croissance\n",
       "0 -0.211  4.00  1.894   7.7  36.41   23.952       0.216            17.656\n",
       "1  4.520  9.08  6.800  33.1  33.31   72.899      11.649            17.656\n",
       "2  5.010  9.35  7.180  70.6  32.13  152.049      12.362            17.656\n",
       "3  2.730  6.41  4.570  24.9  40.76   63.233       6.984            17.656\n",
       "4  3.740  9.05  6.395  26.0  54.43   58.676      10.092            17.656"
      ]
     },
     "execution_count": 43,
     "metadata": {},
     "output_type": "execute_result"
    }
   ],
   "source": [
    "data_columns = [\"Tmin\", \"Tmax\", \"Tmoy\", \"Rain\", \"RG\", \"im\", \"croissance\", \"cumul_croissance\"]\n",
    "X = X.loc[:, data_columns]\n",
    "X.head()"
   ]
  },
  {
   "cell_type": "code",
   "execution_count": 44,
   "id": "00f85ded",
   "metadata": {
    "tags": []
   },
   "outputs": [
    {
     "data": {
      "text/plain": [
       "True"
      ]
     },
     "execution_count": 44,
     "metadata": {},
     "output_type": "execute_result"
    }
   ],
   "source": [
    "(X.isna() | X.isnull()).sum().sum() == 0"
   ]
  },
  {
   "cell_type": "code",
   "execution_count": 45,
   "id": "0051f12d-f343-4595-8a4e-1a383db5e789",
   "metadata": {},
   "outputs": [],
   "source": [
    "Y = pd.DataFrame({'croissance':X.pop('croissance')})"
   ]
  },
  {
   "cell_type": "code",
   "execution_count": 46,
   "id": "44637c92-b55e-4937-a382-895f0aaf5034",
   "metadata": {},
   "outputs": [],
   "source": [
    "X_train = X[X.index.isin(train_index)]\n",
    "X_val = X[X.index.isin(val_index)]\n",
    "X_test = X[X.index.isin(test_index)]\n",
    "\n",
    "Y_train = Y[Y.index.isin(train_index)]\n",
    "Y_val = Y[Y.index.isin(val_index)]\n",
    "Y_test = Y[Y.index.isin(test_index)]"
   ]
  },
  {
   "cell_type": "code",
   "execution_count": 47,
   "id": "192f357f-f45e-4402-a4c1-f12f545db1e8",
   "metadata": {},
   "outputs": [
    {
     "data": {
      "text/html": [
       "<div>\n",
       "<style scoped>\n",
       "    .dataframe tbody tr th:only-of-type {\n",
       "        vertical-align: middle;\n",
       "    }\n",
       "\n",
       "    .dataframe tbody tr th {\n",
       "        vertical-align: top;\n",
       "    }\n",
       "\n",
       "    .dataframe thead th {\n",
       "        text-align: right;\n",
       "    }\n",
       "</style>\n",
       "<table border=\"1\" class=\"dataframe\">\n",
       "  <thead>\n",
       "    <tr style=\"text-align: right;\">\n",
       "      <th></th>\n",
       "      <th>Tmin</th>\n",
       "      <th>Tmax</th>\n",
       "      <th>Tmoy</th>\n",
       "      <th>Rain</th>\n",
       "      <th>RG</th>\n",
       "      <th>im</th>\n",
       "      <th>cumul_croissance</th>\n",
       "    </tr>\n",
       "  </thead>\n",
       "  <tbody>\n",
       "    <tr>\n",
       "      <th>0</th>\n",
       "      <td>-0.211</td>\n",
       "      <td>4.00</td>\n",
       "      <td>1.894</td>\n",
       "      <td>7.7</td>\n",
       "      <td>36.41</td>\n",
       "      <td>23.952</td>\n",
       "      <td>17.656</td>\n",
       "    </tr>\n",
       "    <tr>\n",
       "      <th>1</th>\n",
       "      <td>4.520</td>\n",
       "      <td>9.08</td>\n",
       "      <td>6.800</td>\n",
       "      <td>33.1</td>\n",
       "      <td>33.31</td>\n",
       "      <td>72.899</td>\n",
       "      <td>17.656</td>\n",
       "    </tr>\n",
       "    <tr>\n",
       "      <th>2</th>\n",
       "      <td>5.010</td>\n",
       "      <td>9.35</td>\n",
       "      <td>7.180</td>\n",
       "      <td>70.6</td>\n",
       "      <td>32.13</td>\n",
       "      <td>152.049</td>\n",
       "      <td>17.656</td>\n",
       "    </tr>\n",
       "    <tr>\n",
       "      <th>3</th>\n",
       "      <td>2.730</td>\n",
       "      <td>6.41</td>\n",
       "      <td>4.570</td>\n",
       "      <td>24.9</td>\n",
       "      <td>40.76</td>\n",
       "      <td>63.233</td>\n",
       "      <td>17.656</td>\n",
       "    </tr>\n",
       "    <tr>\n",
       "      <th>4</th>\n",
       "      <td>3.740</td>\n",
       "      <td>9.05</td>\n",
       "      <td>6.395</td>\n",
       "      <td>26.0</td>\n",
       "      <td>54.43</td>\n",
       "      <td>58.676</td>\n",
       "      <td>17.656</td>\n",
       "    </tr>\n",
       "    <tr>\n",
       "      <th>...</th>\n",
       "      <td>...</td>\n",
       "      <td>...</td>\n",
       "      <td>...</td>\n",
       "      <td>...</td>\n",
       "      <td>...</td>\n",
       "      <td>...</td>\n",
       "      <td>...</td>\n",
       "    </tr>\n",
       "    <tr>\n",
       "      <th>3512664</th>\n",
       "      <td>7.110</td>\n",
       "      <td>14.16</td>\n",
       "      <td>10.635</td>\n",
       "      <td>12.3</td>\n",
       "      <td>35.02</td>\n",
       "      <td>22.055</td>\n",
       "      <td>15.084</td>\n",
       "    </tr>\n",
       "    <tr>\n",
       "      <th>3512665</th>\n",
       "      <td>5.900</td>\n",
       "      <td>12.73</td>\n",
       "      <td>9.315</td>\n",
       "      <td>77.9</td>\n",
       "      <td>25.09</td>\n",
       "      <td>149.226</td>\n",
       "      <td>15.084</td>\n",
       "    </tr>\n",
       "    <tr>\n",
       "      <th>3512666</th>\n",
       "      <td>4.740</td>\n",
       "      <td>10.46</td>\n",
       "      <td>7.600</td>\n",
       "      <td>146.6</td>\n",
       "      <td>20.83</td>\n",
       "      <td>308.193</td>\n",
       "      <td>15.084</td>\n",
       "    </tr>\n",
       "    <tr>\n",
       "      <th>3512667</th>\n",
       "      <td>4.090</td>\n",
       "      <td>10.48</td>\n",
       "      <td>7.285</td>\n",
       "      <td>30.0</td>\n",
       "      <td>25.96</td>\n",
       "      <td>64.218</td>\n",
       "      <td>15.084</td>\n",
       "    </tr>\n",
       "    <tr>\n",
       "      <th>3512668</th>\n",
       "      <td>5.467</td>\n",
       "      <td>11.50</td>\n",
       "      <td>8.483</td>\n",
       "      <td>24.6</td>\n",
       "      <td>16.24</td>\n",
       "      <td>49.244</td>\n",
       "      <td>15.084</td>\n",
       "    </tr>\n",
       "  </tbody>\n",
       "</table>\n",
       "<p>1050615 rows × 7 columns</p>\n",
       "</div>"
      ],
      "text/plain": [
       "          Tmin   Tmax    Tmoy   Rain     RG       im  cumul_croissance\n",
       "0       -0.211   4.00   1.894    7.7  36.41   23.952            17.656\n",
       "1        4.520   9.08   6.800   33.1  33.31   72.899            17.656\n",
       "2        5.010   9.35   7.180   70.6  32.13  152.049            17.656\n",
       "3        2.730   6.41   4.570   24.9  40.76   63.233            17.656\n",
       "4        3.740   9.05   6.395   26.0  54.43   58.676            17.656\n",
       "...        ...    ...     ...    ...    ...      ...               ...\n",
       "3512664  7.110  14.16  10.635   12.3  35.02   22.055            15.084\n",
       "3512665  5.900  12.73   9.315   77.9  25.09  149.226            15.084\n",
       "3512666  4.740  10.46   7.600  146.6  20.83  308.193            15.084\n",
       "3512667  4.090  10.48   7.285   30.0  25.96   64.218            15.084\n",
       "3512668  5.467  11.50   8.483   24.6  16.24   49.244            15.084\n",
       "\n",
       "[1050615 rows x 7 columns]"
      ]
     },
     "execution_count": 47,
     "metadata": {},
     "output_type": "execute_result"
    }
   ],
   "source": [
    "X_train"
   ]
  },
  {
   "cell_type": "code",
   "execution_count": 48,
   "id": "bcf784e9-2845-47bb-acad-23eb0dbbea4d",
   "metadata": {},
   "outputs": [
    {
     "data": {
      "text/html": [
       "<div>\n",
       "<style scoped>\n",
       "    .dataframe tbody tr th:only-of-type {\n",
       "        vertical-align: middle;\n",
       "    }\n",
       "\n",
       "    .dataframe tbody tr th {\n",
       "        vertical-align: top;\n",
       "    }\n",
       "\n",
       "    .dataframe thead th {\n",
       "        text-align: right;\n",
       "    }\n",
       "</style>\n",
       "<table border=\"1\" class=\"dataframe\">\n",
       "  <thead>\n",
       "    <tr style=\"text-align: right;\">\n",
       "      <th></th>\n",
       "      <th>croissance</th>\n",
       "    </tr>\n",
       "  </thead>\n",
       "  <tbody>\n",
       "    <tr>\n",
       "      <th>0</th>\n",
       "      <td>0.216</td>\n",
       "    </tr>\n",
       "    <tr>\n",
       "      <th>1</th>\n",
       "      <td>11.649</td>\n",
       "    </tr>\n",
       "    <tr>\n",
       "      <th>2</th>\n",
       "      <td>12.362</td>\n",
       "    </tr>\n",
       "    <tr>\n",
       "      <th>3</th>\n",
       "      <td>6.984</td>\n",
       "    </tr>\n",
       "    <tr>\n",
       "      <th>4</th>\n",
       "      <td>10.092</td>\n",
       "    </tr>\n",
       "    <tr>\n",
       "      <th>...</th>\n",
       "      <td>...</td>\n",
       "    </tr>\n",
       "    <tr>\n",
       "      <th>3512664</th>\n",
       "      <td>17.366</td>\n",
       "    </tr>\n",
       "    <tr>\n",
       "      <th>3512665</th>\n",
       "      <td>9.431</td>\n",
       "    </tr>\n",
       "    <tr>\n",
       "      <th>3512666</th>\n",
       "      <td>2.368</td>\n",
       "    </tr>\n",
       "    <tr>\n",
       "      <th>3512667</th>\n",
       "      <td>3.184</td>\n",
       "    </tr>\n",
       "    <tr>\n",
       "      <th>3512668</th>\n",
       "      <td>8.262</td>\n",
       "    </tr>\n",
       "  </tbody>\n",
       "</table>\n",
       "<p>1050615 rows × 1 columns</p>\n",
       "</div>"
      ],
      "text/plain": [
       "         croissance\n",
       "0             0.216\n",
       "1            11.649\n",
       "2            12.362\n",
       "3             6.984\n",
       "4            10.092\n",
       "...             ...\n",
       "3512664      17.366\n",
       "3512665       9.431\n",
       "3512666       2.368\n",
       "3512667       3.184\n",
       "3512668       8.262\n",
       "\n",
       "[1050615 rows x 1 columns]"
      ]
     },
     "execution_count": 48,
     "metadata": {},
     "output_type": "execute_result"
    }
   ],
   "source": [
    "Y_train"
   ]
  },
  {
   "cell_type": "code",
   "execution_count": null,
   "id": "efb2bea9-2de3-4525-817a-b4968710dba0",
   "metadata": {},
   "outputs": [],
   "source": []
  }
 ],
 "metadata": {
  "kernelspec": {
   "display_name": "Python 3 (ipykernel)",
   "language": "python",
   "name": "python3"
  },
  "language_info": {
   "codemirror_mode": {
    "name": "ipython",
    "version": 3
   },
   "file_extension": ".py",
   "mimetype": "text/x-python",
   "name": "python",
   "nbconvert_exporter": "python",
   "pygments_lexer": "ipython3",
   "version": "3.9.15"
  },
  "toc-autonumbering": false,
  "toc-showmarkdowntxt": true
 },
 "nbformat": 4,
 "nbformat_minor": 5
}
