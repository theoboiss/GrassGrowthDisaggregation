{
 "cells": [
  {
   "cell_type": "code",
   "execution_count": 1,
   "id": "167d5bd0",
   "metadata": {
    "collapsed": false,
    "jupyter": {
     "outputs_hidden": false
    },
    "pycharm": {
     "name": "#%%\n"
    }
   },
   "outputs": [
    {
     "name": "stderr",
     "output_type": "stream",
     "text": [
      "2023-01-12 23:30:35.767321: I tensorflow/stream_executor/platform/default/dso_loader.cc:49] Successfully opened dynamic library libcudart.so.10.1\n"
     ]
    }
   ],
   "source": [
    "# Import libraries\n",
    "\n",
    "import numpy as np\n",
    "import matplotlib.pyplot as plt\n",
    "\n",
    "from data import pipeline\n",
    "from data.window import SlidingWindow\n",
    "\n",
    "# Load the TensorBoard notebook extension\n",
    "%load_ext tensorboard\n",
    "\n",
    "import tensorflow as tf\n",
    "import datetime\n",
    "\n",
    "# Clear any logs from previous runs\n",
    "\n",
    "!rm -rf ./logs/"
   ]
  },
  {
   "cell_type": "markdown",
   "id": "664444fd-2e5e-4513-899f-bd6d56e73f88",
   "metadata": {},
   "source": [
    "# Data preparation"
   ]
  },
  {
   "cell_type": "code",
   "execution_count": 2,
   "id": "7322d8b7-d484-47f9-8ecf-338a8d437a99",
   "metadata": {},
   "outputs": [
    {
     "name": "stdout",
     "output_type": "stream",
     "text": [
      "Loading LSTM dataset\n",
      "Done!\n",
      "(1050578, 4, 8) (1050578, 1)\n"
     ]
    }
   ],
   "source": [
    "# Load / Build dataset\n",
    "\n",
    "X_train, Y_train, Y_train_prior, X_val, Y_val, X_test, Y_test, Y_test_prior = pipeline.buildAndSave(\"LSTM\") # load / buildAndSave / build\n",
    "print(X_train.shape, Y_train.shape)"
   ]
  },
  {
   "cell_type": "code",
   "execution_count": 3,
   "id": "d21c98a7-d777-4031-8931-df9e1f3e6497",
   "metadata": {},
   "outputs": [
    {
     "name": "stdout",
     "output_type": "stream",
     "text": [
      "(1050578, 4, 8) (1050578, 1)\n"
     ]
    }
   ],
   "source": [
    "# Normalisation\n",
    "\n",
    "from sklearn.preprocessing import StandardScaler\n",
    "\n",
    "X_train = X_train.reshape(-1, 32)\n",
    "X_val = X_val.reshape(-1, 32)\n",
    "X_test = X_test.reshape(-1, 32)\n",
    "\n",
    "sc_X = StandardScaler()\n",
    "X_train = sc_X.fit_transform(X_train)\n",
    "X_val = sc_X.fit_transform(X_val)\n",
    "X_test = sc_X.transform(X_test)\n",
    "\n",
    "sc_y = StandardScaler()\n",
    "Y_train = sc_y.fit_transform(Y_train.reshape(-1, 1))\n",
    "\n",
    "X_train = X_train.reshape(-1, 4, 8)\n",
    "X_val = X_val.reshape(-1, 4, 8)\n",
    "X_test = X_test.reshape(-1, 4, 8)\n",
    "\n",
    "print(X_train.shape, Y_train.shape)"
   ]
  },
  {
   "cell_type": "markdown",
   "id": "30903884",
   "metadata": {
    "pycharm": {
     "name": "#%% md\n"
    }
   },
   "source": [
    "# Training"
   ]
  },
  {
   "cell_type": "code",
   "execution_count": 4,
   "id": "c10e42ce-8aed-4dc4-8de1-b0196bda78d9",
   "metadata": {},
   "outputs": [],
   "source": [
    "# Import libraries for training and tuning\n",
    "\n",
    "import tensorflow as tf\n",
    "from tensorflow.keras.models import Sequential\n",
    "from tensorflow.keras.layers import LSTM, Dense\n",
    "from tensorflow.keras.losses import MeanSquaredError\n",
    "from tensorflow.keras.metrics import RootMeanSquaredError\n",
    "from tensorflow.keras.optimizers import Adam\n",
    "from tensorflow.keras.models import load_model\n",
    "import keras_tuner as kt\n",
    "from keras_tuner import BayesianOptimization, Objective\n",
    "\n",
    "tune = False\n",
    "overwrite = False\n",
    "use_hyperparams = False\n",
    "fit = False"
   ]
  },
  {
   "cell_type": "code",
   "execution_count": 5,
   "id": "fd1e2541-11a0-48e3-b07d-083ca2abf68b",
   "metadata": {
    "collapsed": false,
    "jupyter": {
     "outputs_hidden": false
    },
    "pycharm": {
     "name": "#%%\n"
    }
   },
   "outputs": [],
   "source": [
    "# Visualise the loss\n",
    "\n",
    "log_dir = \"logs/fit/\" + datetime.datetime.now().strftime(\"%Y%m%d-%H%M%S\")\n",
    "tensorboard_callback = tf.keras.callbacks.TensorBoard(log_dir=log_dir, histogram_freq=1)"
   ]
  },
  {
   "cell_type": "markdown",
   "id": "67053880-d179-49f2-b56a-ef72ff7c3a9f",
   "metadata": {},
   "source": [
    "### Tuning"
   ]
  },
  {
   "cell_type": "code",
   "execution_count": 6,
   "id": "40403a34-6c1c-43cb-95b0-c52f4b93d821",
   "metadata": {},
   "outputs": [],
   "source": [
    "# Define the hypermodel\n",
    "\n",
    "def buildLSTM(units, learning_rate):\n",
    "    model = Sequential()\n",
    "    model.add(LSTM(units= units,\n",
    "                   activation= 'relu',\n",
    "                   input_shape= (4, 8)))\n",
    "    model.add(Dense(1))\n",
    "    model.compile(optimizer= Adam(learning_rate= learning_rate),\n",
    "                  loss= 'mean_squared_error',\n",
    "                  metrics= [RootMeanSquaredError()])\n",
    "    return model\n",
    "\n",
    "\n",
    "class HyperLSTMModel(kt.HyperModel):\n",
    "    def build(self, hp):\n",
    "        # Tune the number of units in the LSTM per cell in the layer\n",
    "        # units between 50-90\n",
    "        hp_units = hp.Int('units', min_value= 50, max_value= 90, step= 5)\n",
    "        \n",
    "        # Tune the learning rate for the optimizer\n",
    "        # learning_rate from 0.01, 0.001, or 0.0001\n",
    "        hp_learning_rate = hp.Float('learning_rate', min_value=1e-4, max_value=1e-2, sampling='log')\n",
    "        \n",
    "        return buildLSTM(hp_units, hp_learning_rate)\n",
    "\n",
    "    def fit(self, hp, model, *args, **kwargs):\n",
    "        # Tune the batch size backpropagate the gradient less often\n",
    "        # batch_size between 37-370\n",
    "        hp_batch_size = hp.Int('batch_size', min_value= 37, max_value= 37*10, step= 37)\n",
    "        \n",
    "        return model.fit(*args, batch_size= hp_batch_size, **kwargs,)\n"
   ]
  },
  {
   "cell_type": "code",
   "execution_count": 7,
   "id": "a1bf85be-7e0c-4d36-8cf4-a444e70c69b5",
   "metadata": {},
   "outputs": [],
   "source": [
    "# Define the model with default hyperparameters\n",
    "\n",
    "if fit and not use_hyperparams:\n",
    "    model = buildLSTM(units= 70,\n",
    "                      learning_rate= 0.002)\n",
    "    batch_size = 37"
   ]
  },
  {
   "cell_type": "code",
   "execution_count": 8,
   "id": "28f16ae3-6d3e-416c-8706-428eed6aea47",
   "metadata": {},
   "outputs": [],
   "source": [
    "# Define the tuner\n",
    "\n",
    "if tune or use_hyperparams:\n",
    "    tuner = BayesianOptimization(\n",
    "        hypermodel= HyperLSTMModel(),\n",
    "        objective= Objective('val_root_mean_squared_error', direction= 'min'),\n",
    "        num_initial_points= 2,\n",
    "        executions_per_trial= 3,\n",
    "        max_trials= 8,\n",
    "        project_name= 'lstm_automl',\n",
    "        overwrite= overwrite\n",
    "    )"
   ]
  },
  {
   "cell_type": "code",
   "execution_count": 9,
   "id": "c3c0c02e-4822-4a78-a06b-db1588eadb44",
   "metadata": {},
   "outputs": [],
   "source": [
    "# Reload the tuner\n",
    "\n",
    "if not overwrite and use_hyperparams:\n",
    "    tuner.reload()\n",
    "\n",
    "\n",
    "# Search the best hyperparameters\n",
    "\n",
    "if tune:\n",
    "    %tensorboard --logdir logs/fit\n",
    "    \n",
    "    history = tuner.search(x= X_train, y= Y_train,\n",
    "                           epochs= 5, \n",
    "                           validation_data= (X_val, Y_val), \n",
    "                           callbacks= [tensorboard_callback])\n",
    "\n",
    "    # Get the results of the tuning\n",
    "\n",
    "    tuner.results_summary()\n",
    "\n",
    "\n",
    "if tune or use_hyperparams:\n",
    "    best_hps = tuner.get_best_hyperparameters(num_trials=1)[0]\n",
    "    msg = f\"\"\"The best:\n",
    "    - dimension of the hidden state found is {best_hps.get('units')}\n",
    "    - learning rate found is {best_hps.get('learning_rate')}\n",
    "    - batch size found is {best_hps.get('batch_size')}\"\"\"\n",
    "    print(msg)\n",
    "\n",
    "    with open('lstm_output.txt', 'w') as f:\n",
    "        f.write(msg)"
   ]
  },
  {
   "cell_type": "code",
   "execution_count": 10,
   "id": "c8a965a2-91cb-4e26-9747-ae80d7eab038",
   "metadata": {
    "collapsed": false,
    "jupyter": {
     "outputs_hidden": false
    },
    "pycharm": {
     "name": "#%%\n"
    }
   },
   "outputs": [],
   "source": [
    "# Reload the hypermodel from the tuner\n",
    "\n",
    "if use_hyperparams:\n",
    "    tuner.reload()\n",
    "    model = tuner.hypermodel.build(best_hps)"
   ]
  },
  {
   "cell_type": "markdown",
   "id": "3a53924a-965d-419f-b0c2-52e9be31e8ad",
   "metadata": {},
   "source": [
    "### Fitting"
   ]
  },
  {
   "cell_type": "code",
   "execution_count": 11,
   "id": "117aab6b-1c95-4580-b9be-f949c8ddaf94",
   "metadata": {
    "collapsed": false,
    "jupyter": {
     "outputs_hidden": false
    },
    "pycharm": {
     "name": "#%%\n"
    }
   },
   "outputs": [
    {
     "name": "stdout",
     "output_type": "stream",
     "text": [
      "WARNING:tensorflow:Layer lstm_1 will not use cuDNN kernel since it doesn't meet the cuDNN kernel criteria. It will use generic GPU kernel as fallback when running on GPU\n"
     ]
    }
   ],
   "source": [
    "# Reload the model\n",
    "\n",
    "if not fit:\n",
    "    model = load_model(\"lstm_model\")\n",
    "\n",
    "\n",
    "# Train the model\n",
    "\n",
    "if fit:\n",
    "    if use_hyperparams and 'batch_size' in best_hps:\n",
    "        batch_size = best_hps.get('batch_size')\n",
    "    \n",
    "    %tensorboard --logdir logs/fit\n",
    "    \n",
    "    history = model.fit(X_train, Y_train,\n",
    "                        batch_size= batch_size,\n",
    "                        validation_data= (X_val, Y_val),\n",
    "                        epochs= 10,\n",
    "                        callbacks= [tensorboard_callback])\n",
    "\n",
    "\n",
    "# Save the model\n",
    "\n",
    "if fit and overwrite:\n",
    "    model.save(\"lstm_model\")"
   ]
  },
  {
   "cell_type": "markdown",
   "id": "82306ba6-e734-4d1c-8683-41082f994712",
   "metadata": {},
   "source": [
    "# Evaluation"
   ]
  },
  {
   "cell_type": "code",
   "execution_count": 12,
   "id": "38d79fca-e515-4dac-8bc8-e6534e053405",
   "metadata": {},
   "outputs": [
    {
     "name": "stdout",
     "output_type": "stream",
     "text": [
      "(999, 4, 8) (999, 1)\n"
     ]
    }
   ],
   "source": [
    "# Reduce the size of the test dataset\n",
    "\n",
    "X_test = X_test[:37*27]\n",
    "Y_test = Y_test[:37*27]\n",
    "print(X_test.shape, Y_test.shape)"
   ]
  },
  {
   "cell_type": "code",
   "execution_count": 13,
   "id": "2e6f8900-7ff2-4839-8e8e-ee07b4c0c638",
   "metadata": {},
   "outputs": [],
   "source": [
    "Y_test = list(Y_test_prior.reshape(-1)) + list(Y_test[:-3].reshape(-1))"
   ]
  },
  {
   "cell_type": "code",
   "execution_count": 14,
   "id": "b18ee980-f503-420f-92c6-4e350d9ed2f4",
   "metadata": {},
   "outputs": [],
   "source": [
    "# Compute error naive model\n",
    "\n",
    "from sklearn.metrics import mean_squared_error\n",
    "from math import sqrt\n",
    "import statistics\n",
    "\n",
    "Y_train = np.concatenate((Y_train_prior, Y_train[:-3]))\n",
    "Y_train = Y_train.reshape(-1, 1)\n",
    "Y_train = sc_y.inverse_transform(Y_train)\n",
    "\n",
    "Y_train = Y_train.reshape(-1, 37)\n",
    "year_growth_avg = [Y_train[:, decade].mean() for decade in range(37)]\n",
    "\n",
    "Y_naive = []\n",
    "while len(Y_naive) < len(Y_test):\n",
    "        Y_naive += year_growth_avg"
   ]
  },
  {
   "cell_type": "code",
   "execution_count": 15,
   "id": "508b3554-4820-404b-8683-3849899a6902",
   "metadata": {},
   "outputs": [
    {
     "name": "stdout",
     "output_type": "stream",
     "text": [
      "Test RMSE with naive model : 21.248\n"
     ]
    }
   ],
   "source": [
    "print('Test RMSE with naive model : %.3f' % statistics.mean([sqrt(mean_squared_error(Y_test[decade-37:decade], Y_naive[decade-37:decade])) for decade in range(37, len(Y_naive), 37)]))"
   ]
  },
  {
   "cell_type": "code",
   "execution_count": 16,
   "id": "794ab4b5-6c62-4328-b6eb-456e22bf5da6",
   "metadata": {
    "collapsed": false,
    "jupyter": {
     "outputs_hidden": false
    },
    "pycharm": {
     "name": "#%%\n"
    }
   },
   "outputs": [
    {
     "name": "stdout",
     "output_type": "stream",
     "text": [
      "0 %\n",
      "10 %\n",
      "20 %\n",
      "30 %\n",
      "40 %\n",
      "50 %\n",
      "60 %\n",
      "70 %\n",
      "80 %\n",
      "90 %\n",
      "100 %\n",
      "Test RMSE : 39.850\n"
     ]
    }
   ],
   "source": [
    "# Predict and inject its predictions\n",
    "\n",
    "sw = SlidingWindow(X_test, reset_cycle= 37)\n",
    "\n",
    "pred = model.predict(sw.values.reshape(-1, 4, 8), verbose=0) # iterator: 0\n",
    "Y_preds = [pred]\n",
    "\n",
    "last_progression = 0\n",
    "print(0, '%')\n",
    "while sw.next(pred): # iterator: t-1\n",
    "    x = sw.values.reshape(-1, 4, 8)\n",
    "    pred = model.predict(x, verbose=0) # iterator: t\n",
    "    Y_preds.append(pred)\n",
    "        \n",
    "    progression = (sw.it+1) / len(sw.X) * 100\n",
    "    if progression - last_progression > 1 and not int(progression) % 10:\n",
    "        print(int(progression), '%')\n",
    "        last_progression = progression\n",
    "\n",
    "Y_preds = np.array(Y_preds).reshape(-1, 1)\n",
    "\n",
    "print('Test RMSE : %.3f' % statistics.mean([sqrt(mean_squared_error(Y_test[decade-37:decade], Y_preds[decade-37:decade])) for decade in range(37, len(Y_preds), 37)]))"
   ]
  },
  {
   "cell_type": "code",
   "execution_count": 17,
   "id": "16d969f3-369d-4053-ac68-0652205d640e",
   "metadata": {},
   "outputs": [],
   "source": [
    "# Process results for plots\n",
    "\n",
    "Y_preds = sc_y.inverse_transform(Y_preds)\n",
    "Y_preds = list(Y_preds.reshape(-1))\n",
    "Y_preds = [9.57]*3 + Y_preds"
   ]
  },
  {
   "cell_type": "code",
   "execution_count": 19,
   "id": "049061fd-9880-4b55-9f2a-c6ac97b30f91",
   "metadata": {},
   "outputs": [
    {
     "data": {
      "image/png": "[encoded data removed]",
      "text/plain": [
       "<Figure size 640x480 with 1 Axes>"
      ]
     },
     "metadata": {},
     "output_type": "display_data"
    }
   ],
   "source": [
    "# Plot the results\n",
    "\n",
    "year = 0\n",
    "decades = [decade for decade in range(37)]\n",
    "plt.plot(decades, Y_test[37*year:37*(year+1)], color=\"blue\", label= \"raw\")\n",
    "plt.plot(decades, Y_preds[37*year:37*(year+1)], color=\"red\", label= \"LSTM\")\n",
    "plt.plot(decades, Y_naive[37*year:37*(year+1)], color=\"green\", label= \"naive model\")\n",
    "plt.xlabel(\"Decades\")\n",
    "plt.ylabel(\"Growth\")\n",
    "plt.legend()\n",
    "plt.show()"
   ]
  },
  {
   "cell_type": "code",
   "execution_count": null,
   "id": "9083ddcc-539b-4c86-b84d-b0422341788b",
   "metadata": {},
   "outputs": [],
   "source": []
  }
 ],
 "metadata": {
  "kernelspec": {
   "display_name": "Python 3 (ipykernel)",
   "language": "python",
   "name": "python3"
  },
  "language_info": {
   "codemirror_mode": {
    "name": "ipython",
    "version": 3
   },
   "file_extension": ".py",
   "mimetype": "text/x-python",
   "name": "python",
   "nbconvert_exporter": "python",
   "pygments_lexer": "ipython3",
   "version": "3.9.15"
  }
 },
 "nbformat": 4,
 "nbformat_minor": 5
}
