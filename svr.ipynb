{
 "cells": [
  {
   "cell_type": "code",
   "execution_count": 1,
   "id": "167d5bd0",
   "metadata": {
    "collapsed": false,
    "jupyter": {
     "outputs_hidden": false
    },
    "pycharm": {
     "name": "#%%\n"
    }
   },
   "outputs": [],
   "source": [
    "# Import libraries\n",
    "\n",
    "import numpy as np\n",
    "import matplotlib.pyplot as plt\n",
    "import pandas as pd\n",
    "\n",
    "import pickle\n",
    "import pyreadr\n",
    "import os\n",
    "\n",
    "from data import pipeline\n",
    "\n",
    "pd.set_option(\"display.precision\", 2)"
   ]
  },
  {
   "cell_type": "markdown",
   "id": "664444fd-2e5e-4513-899f-bd6d56e73f88",
   "metadata": {},
   "source": [
    "# Data preparation"
   ]
  },
  {
   "cell_type": "code",
   "execution_count": 2,
   "id": "8cecc387-755d-4ad1-9ee0-802e51059e88",
   "metadata": {},
   "outputs": [
    {
     "name": "stdout",
     "output_type": "stream",
     "text": [
      "Loading SVR dataset\n",
      "Done!\n",
      "(1050578, 31) (1050578, 1)\n"
     ]
    }
   ],
   "source": [
    "# Load / Build dataset\n",
    "\n",
    "X_train, Y_train, Y_train_prior, X_test, Y_test, Y_test_prior = pipeline.buildAndSave(\"SVR\") # load / buildAndSave / build\n",
    "print(X_train.shape, Y_train.shape)"
   ]
  },
  {
   "cell_type": "code",
   "execution_count": 3,
   "id": "b199d8b5-b916-4e96-a91a-d71103d15f80",
   "metadata": {},
   "outputs": [],
   "source": [
    "# Reduce dataset\n",
    "\n",
    "from sklearn.model_selection import train_test_split\n",
    "\n",
    "def reduceRandomly(X, Y, new_size):\n",
    "    # Shuffle the dataset\n",
    "    X_init, X_shuffled, Y_init, Y_shuffled = train_test_split(X, Y, test_size= len(X)-1)\n",
    "    \n",
    "    # Insert the non-shuffled value at a random index\n",
    "    index = np.random.randint(0, len(X_shuffled))\n",
    "    X_shuffled = np.concatenate((X_shuffled[:index], X_init, X_shuffled[index:]))\n",
    "    Y_shuffled = np.concatenate((Y_shuffled[:index], Y_init, Y_shuffled[index:]))\n",
    "    \n",
    "    # Reduce the size of X and Y\n",
    "    X_shuffled_reduced = X_shuffled[:new_size]\n",
    "    Y_shuffled_reduced = Y_shuffled[:new_size]\n",
    "    return X_shuffled_reduced, Y_shuffled_reduced\n",
    "\n",
    "Y_train_original = Y_train\n",
    "X_train, Y_train = reduceRandomly(X_train, Y_train, 37*300)"
   ]
  },
  {
   "cell_type": "code",
   "execution_count": 4,
   "id": "a15ee96e-5a67-4b7a-9bf3-44274f238b17",
   "metadata": {},
   "outputs": [
    {
     "name": "stdout",
     "output_type": "stream",
     "text": [
      "(11100, 31) (11100,)\n"
     ]
    }
   ],
   "source": [
    "# Normalisation\n",
    "\n",
    "from sklearn.preprocessing import StandardScaler\n",
    "\n",
    "Y_train = Y_train.reshape(-1, 1)\n",
    "Y_test = Y_test.reshape(-1, 1)\n",
    "\n",
    "sc_X = StandardScaler()\n",
    "X_train = sc_X.fit_transform(X_train)\n",
    "X_test = sc_X.transform(X_test)\n",
    "\n",
    "sc_y = StandardScaler()\n",
    "Y_train = sc_y.fit_transform(Y_train)\n",
    "Y_train = Y_train.reshape(-1)\n",
    "Y_train_original = sc_y.fit_transform(Y_train_original)\n",
    "Y_train_original = Y_train_original.reshape(-1)\n",
    "\n",
    "\n",
    "print(X_train.shape, Y_train.shape)"
   ]
  },
  {
   "cell_type": "markdown",
   "id": "30903884",
   "metadata": {
    "pycharm": {
     "name": "#%% md\n"
    }
   },
   "source": [
    "# Training"
   ]
  },
  {
   "cell_type": "code",
   "execution_count": 5,
   "id": "82331557-d40a-4a08-adc4-e902663da317",
   "metadata": {},
   "outputs": [],
   "source": [
    "# Import libraries for training and tuning\n",
    "\n",
    "from sklearn.svm import SVR\n",
    "from sklearn.model_selection import GridSearchCV, RandomizedSearchCV\n",
    "import scipy.stats as stats\n",
    "\n",
    "tune = False\n",
    "overwrite = False\n",
    "use_hyperparams = False\n",
    "fit = False"
   ]
  },
  {
   "cell_type": "code",
   "execution_count": 6,
   "id": "a0640194-aadc-4761-b583-7312f22c5652",
   "metadata": {},
   "outputs": [],
   "source": [
    "# Define the model\n",
    "\n",
    "if tune or (fit and not use_hyperparams):\n",
    "    regressor = SVR(kernel= 'rbf',\n",
    "                    C= 100,\n",
    "                    verbose= 0)"
   ]
  },
  {
   "cell_type": "markdown",
   "id": "4f66e203-a5ff-433f-90b3-a43063b7e88f",
   "metadata": {},
   "source": [
    "### Tuning"
   ]
  },
  {
   "cell_type": "code",
   "execution_count": 7,
   "id": "e885bc8d-8206-49e0-938f-618da6ac55f8",
   "metadata": {},
   "outputs": [],
   "source": [
    "# Define thet tuner\n",
    "\n",
    "if tune:\n",
    "    hp_C = {\"C\": stats.uniform(1, 1000)}\n",
    "\n",
    "    tuner = RandomizedSearchCV(\n",
    "        estimator= regressor,\n",
    "        param_distributions= hp_C,\n",
    "        n_iter= 20,\n",
    "        cv= 5,\n",
    "        random_state= 0,\n",
    "        n_jobs= -1,\n",
    "        verbose= 1)"
   ]
  },
  {
   "cell_type": "code",
   "execution_count": 8,
   "id": "6a3f730c-8968-4ef1-8567-da2acf6ad49d",
   "metadata": {},
   "outputs": [],
   "source": [
    "# Reload tuner\n",
    "\n",
    "if not overwrite and use_hyperparams:\n",
    "    with open(\"svr_automl.pkl\", \"rb\") as f:\n",
    "        tuner = pickle.load(f)\n",
    "\n",
    "\n",
    "# Search the best hyperparameters\n",
    "\n",
    "if tune:\n",
    "    tuner.fit(X_train, Y_train)\n",
    "    \n",
    "    \n",
    "    # Get the results of the tuning\n",
    "\n",
    "    tuner.cv_results_\n",
    "\n",
    "\n",
    "# Save the hyperparameter\n",
    "\n",
    "if tune and overwrite:\n",
    "    with open(\"svr_automl.pkl\", \"wb\") as f:\n",
    "        pickle.dump(tuner, f)\n",
    "\n",
    "\n",
    "if tune or use_hyperparams:\n",
    "    best_hps = tuner.best_params_\n",
    "    msg = f\"\"\"The best:\n",
    "    - parameter of regulation found is {best_hps.get('C')}\"\"\"\n",
    "    print(msg)\n",
    "\n",
    "    with open('lstm_output.txt', 'w') as f:\n",
    "        f.write(msg)"
   ]
  },
  {
   "cell_type": "code",
   "execution_count": 9,
   "id": "d19bb87f-5392-4858-98aa-2d4c53a6afd4",
   "metadata": {},
   "outputs": [],
   "source": [
    "# Reload the hypermodel from the tuner\n",
    "\n",
    "if use_hyperparams:\n",
    "    with open(\"svr_automl.pkl\", \"rb\") as f:\n",
    "        tuner = pickle.load(f)\n",
    "    regressor.set_params(**tuner.best_params_)"
   ]
  },
  {
   "cell_type": "markdown",
   "id": "3db37a49-2f1b-4e52-a9f8-f43e77ae132b",
   "metadata": {},
   "source": [
    "### Fitting"
   ]
  },
  {
   "cell_type": "code",
   "execution_count": 10,
   "id": "d1fc3539-157c-4fea-823f-19a10d6ccee1",
   "metadata": {},
   "outputs": [],
   "source": [
    "# Reload the model\n",
    "\n",
    "if not fit:\n",
    "    with open(\"svr_model.pkl\", \"rb\") as f:\n",
    "        regressor = pickle.load(f)\n",
    "\n",
    "\n",
    "# Train the model\n",
    "\n",
    "if fit:\n",
    "    regressor.fit(X_train, Y_train)\n",
    "\n",
    "\n",
    "# Save the model\n",
    "\n",
    "if fit and overwrite:\n",
    "    with open(\"svr_model.pkl\", \"wb\") as f:\n",
    "        pickle.dump(regressor, f)"
   ]
  },
  {
   "cell_type": "code",
   "execution_count": 11,
   "id": "79247d03-66a2-44ae-9802-0eb76085f460",
   "metadata": {},
   "outputs": [
    {
     "name": "stdout",
     "output_type": "stream",
     "text": [
      "Loss (MSE) : 0.095\n"
     ]
    }
   ],
   "source": [
    "# Visualise the loss\n",
    "\n",
    "from sklearn.metrics import mean_squared_error\n",
    "from math import sqrt\n",
    "import statistics\n",
    "\n",
    "print('Loss (MSE) : %.3f' % statistics.mean([mean_squared_error(Y_train[decade-37:decade], regressor.predict(X_train[decade-37:decade])) for decade in range(37, len(Y_train), 37)]))"
   ]
  },
  {
   "cell_type": "markdown",
   "id": "82306ba6-e734-4d1c-8683-41082f994712",
   "metadata": {},
   "source": [
    "# Evaluation"
   ]
  },
  {
   "cell_type": "code",
   "execution_count": 12,
   "id": "be92de98-45d9-4afe-a90c-014b15c81f36",
   "metadata": {},
   "outputs": [
    {
     "name": "stdout",
     "output_type": "stream",
     "text": [
      "(14985, 31) (14985, 1)\n"
     ]
    }
   ],
   "source": [
    "# Reduce the size of the test dataset\n",
    "\n",
    "X_test = X_test[:37*405]\n",
    "Y_test = Y_test[:37*405]\n",
    "print(X_test.shape, Y_test.shape)"
   ]
  },
  {
   "cell_type": "code",
   "execution_count": 13,
   "id": "1e1f9e70-2b18-464f-a01b-74c2e51e324e",
   "metadata": {},
   "outputs": [],
   "source": [
    "Y_test = list(Y_test_prior.reshape(-1)) + list(Y_test[:-3].reshape(-1))"
   ]
  },
  {
   "cell_type": "code",
   "execution_count": 14,
   "id": "9c01895b-7be9-482f-92cd-d6b75e4604fd",
   "metadata": {},
   "outputs": [
    {
     "name": "stdout",
     "output_type": "stream",
     "text": [
      "Test RMSE with naive model : 20.626\n"
     ]
    }
   ],
   "source": [
    "# Compute error of naive model\n",
    "\n",
    "Y_train_prior = Y_train_prior.reshape(-1)\n",
    "\n",
    "Y_train = np.concatenate((Y_train_prior, Y_train_original[:-3]))\n",
    "Y_train = Y_train.reshape(-1, 1)\n",
    "Y_train = sc_y.inverse_transform(Y_train)\n",
    "\n",
    "Y_train = Y_train.reshape(-1, 37)\n",
    "year_growth_avg = [Y_train[:, decade].mean() for decade in range(37)]\n",
    "\n",
    "Y_naive = []\n",
    "while len(Y_naive) < len(Y_test):\n",
    "        Y_naive += year_growth_avg\n",
    "\n",
    "print('Test RMSE with naive model : %.3f' % statistics.mean([sqrt(mean_squared_error(Y_test[decade-37:decade], Y_naive[decade-37:decade])) for decade in range(37, len(Y_naive), 37)]))"
   ]
  },
  {
   "cell_type": "code",
   "execution_count": 15,
   "id": "82c106b1-3112-4c75-bf17-9a8d988c416b",
   "metadata": {
    "collapsed": false,
    "jupyter": {
     "outputs_hidden": false
    },
    "pycharm": {
     "name": "#%%\n"
    }
   },
   "outputs": [
    {
     "name": "stdout",
     "output_type": "stream",
     "text": [
      "Test RMSE with SVR: 45.357\n"
     ]
    }
   ],
   "source": [
    "# Compute error\n",
    "\n",
    "Y_preds = regressor.predict(X_test)\n",
    "\n",
    "print('Test RMSE with SVR: %.3f' % statistics.mean([sqrt(mean_squared_error(Y_test[decade-37:decade], Y_preds[decade-37:decade])) for decade in range(37, len(Y_preds), 37)]))"
   ]
  },
  {
   "cell_type": "code",
   "execution_count": 16,
   "id": "aaf60b62-9cba-4a05-bfcb-9dcb1bae0fc7",
   "metadata": {
    "collapsed": false,
    "jupyter": {
     "outputs_hidden": false
    },
    "pycharm": {
     "name": "#%%\n"
    }
   },
   "outputs": [],
   "source": [
    "# Process results for plots\n",
    "\n",
    "Y_preds = sc_y.inverse_transform(Y_preds.reshape(-1, 1))\n",
    "Y_preds = list(Y_preds.reshape(-1))\n",
    "Y_preds = [9.57]*3 + Y_preds"
   ]
  },
  {
   "cell_type": "code",
   "execution_count": 25,
   "id": "569a9439-594e-4c5a-b817-7052dd9e93d3",
   "metadata": {
    "collapsed": false,
    "jupyter": {
     "outputs_hidden": false
    },
    "pycharm": {
     "name": "#%%\n"
    }
   },
   "outputs": [
    {
     "data": {
      "image/png": "[encoded data removed]",
      "text/plain": [
       "<Figure size 640x480 with 1 Axes>"
      ]
     },
     "metadata": {},
     "output_type": "display_data"
    }
   ],
   "source": [
    "# Plot the results\n",
    "\n",
    "year = 0\n",
    "decades = [decade for decade in range(37)]\n",
    "plt.plot(decades, Y_test[37*year:37*(year+1)], color=\"blue\", label= \"raw\")\n",
    "plt.plot(decades, Y_preds[37*year:37*(year+1)], color=\"red\", label= \"svr\")\n",
    "plt.plot(decades, Y_naive[37*year:37*(year+1)], color=\"green\", label= \"naive model\")\n",
    "plt.xlabel(\"Decades\")\n",
    "plt.ylabel(\"Growth\")\n",
    "plt.legend()\n",
    "plt.show()"
   ]
  },
  {
   "cell_type": "code",
   "execution_count": null,
   "id": "99f7c02c-9b9f-46de-985d-ba04c9d0d624",
   "metadata": {},
   "outputs": [],
   "source": []
  }
 ],
 "metadata": {
  "kernelspec": {
   "display_name": "Python 3 (ipykernel)",
   "language": "python",
   "name": "python3"
  },
  "language_info": {
   "codemirror_mode": {
    "name": "ipython",
    "version": 3
   },
   "file_extension": ".py",
   "mimetype": "text/x-python",
   "name": "python",
   "nbconvert_exporter": "python",
   "pygments_lexer": "ipython3",
   "version": "3.9.15"
  }
 },
 "nbformat": 4,
 "nbformat_minor": 5
}
